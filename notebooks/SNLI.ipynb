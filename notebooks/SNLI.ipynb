{
 "cells": [
  {
   "cell_type": "markdown",
   "metadata": {},
   "source": [
    "# Example Notebook to showcasing how we interact with JTReaders"
   ]
  },
  {
   "cell_type": "code",
   "execution_count": 1,
   "metadata": {},
   "outputs": [],
   "source": [
    "# First change dir to Jack parent\n",
    "import os\n",
    "os.chdir('..')"
   ]
  },
  {
   "cell_type": "code",
   "execution_count": 2,
   "metadata": {},
   "outputs": [],
   "source": [
    "# Configure Jack logger to print to standard output, that is console\n",
    "import sys, os\n",
    "import logging\n",
    "logging.basicConfig(stream=sys.stdout, level=logging.DEBUG)\n",
    "logger = logging.getLogger(os.path.basename(sys.argv[0]))"
   ]
  },
  {
   "cell_type": "markdown",
   "metadata": {},
   "source": [
    "### Bookkeeping of all existing readers: `readers.py`"
   ]
  },
  {
   "cell_type": "code",
   "execution_count": 3,
   "metadata": {},
   "outputs": [
    {
     "name": "stdout",
     "output_type": "stream",
     "text": [
      "Existing models:\n",
      "example_reader, modelf_reader, snli_reader, fastqa_reader\n"
     ]
    }
   ],
   "source": [
    "import jtr.jack.readers as readers\n",
    "print(\"Existing models:\\n{}\".format(\", \".join(readers.readers.keys())))"
   ]
  },
  {
   "cell_type": "markdown",
   "metadata": {},
   "source": [
    "### Load test data"
   ]
  },
  {
   "cell_type": "code",
   "execution_count": 4,
   "metadata": {},
   "outputs": [],
   "source": [
    "# Loaded some test data to work on\n",
    "# This loads train, dev, and test data of sizes (2k, 1k, 1k)\n",
    "from jtr.jack.core import load_labelled_data\n",
    "\n",
    "\n",
    "class TestDatasets(object):\n",
    "    @staticmethod\n",
    "    def generate_SNLI():\n",
    "        snli_path, snli_data = 'tests/test_data/SNLI/', []\n",
    "        splits = ['train.json', 'dev.json', 'test.json']\n",
    "        for split in splits:\n",
    "            path = os.path.join(snli_path, split)\n",
    "            snli_data.append(load_labelled_data(path))\n",
    "\n",
    "        return snli_data\n",
    "\n",
    "train_set, dev_set, test_set = TestDatasets.generate_SNLI()"
   ]
  },
  {
   "cell_type": "markdown",
   "metadata": {},
   "source": [
    "### Create a reader"
   ]
  },
  {
   "cell_type": "code",
   "execution_count": 5,
   "metadata": {},
   "outputs": [],
   "source": [
    "from jtr.preprocess.vocab import Vocab\n",
    "# Create example reader with a basic config\n",
    "embedding_dim = 128\n",
    "hidden_dim = 128\n",
    "config = {\"batch_size\": 128, \"repr_dim\": hidden_dim, \"repr_dim_input\": embedding_dim, 'dropout' : 0.1}\n",
    "reader = readers.readers[\"snli_reader\"](Vocab(), config)"
   ]
  },
  {
   "cell_type": "markdown",
   "metadata": {},
   "source": [
    "### Add hooks"
   ]
  },
  {
   "cell_type": "code",
   "execution_count": 6,
   "metadata": {},
   "outputs": [],
   "source": [
    "# We create hooks which keep track of the metrics such as the loss\n",
    "# We also create a classification metric monitoring hook for our model\n",
    "from jtr.jack.train.hooks import LossHook\n",
    "hooks = [LossHook(reader, iter_interval=10),\n",
    "         readers.eval_hooks['snli_reader'](reader, dev_set, iter_interval=25)]"
   ]
  },
  {
   "cell_type": "markdown",
   "metadata": {},
   "source": [
    "### Initialise optimiser"
   ]
  },
  {
   "cell_type": "code",
   "execution_count": 7,
   "metadata": {
    "collapsed": true
   },
   "outputs": [],
   "source": [
    "# Here we initialise our optimiser\n",
    "# we choose Adam with standard momentum values and learning rate 0.001\n",
    "import tensorflow as tf\n",
    "learning_rate = 0.001\n",
    "optimizer = tf.train.AdamOptimizer(learning_rate)"
   ]
  },
  {
   "cell_type": "markdown",
   "metadata": {},
   "source": [
    "### Train reader"
   ]
  },
  {
   "cell_type": "code",
   "execution_count": 8,
   "metadata": {
    "scrolled": false
   },
   "outputs": [
    {
     "name": "stdout",
     "output_type": "stream",
     "text": [
      "INFO:root:Setting up data and model...\n",
      "INFO:root:Start training...\n",
      "INFO:jtr.jack.train.hooks:Epoch 1\tIter 10\tLoss 1.1055793643\n",
      "INFO:jtr.jack.train.hooks:Epoch 1\tIter 20\tLoss 1.1087624073\n",
      "INFO:jtr.jack.train.hooks:Started evaluation ClassificationEvalHook\n"
     ]
    },
    {
     "name": "stderr",
     "output_type": "stream",
     "text": [
      "/usr/local/lib/python3.4/dist-packages/sklearn/metrics/classification.py:1113: UndefinedMetricWarning: F-score is ill-defined and being set to 0.0 in labels with no predicted samples.\n",
      "  'precision', 'predicted', average, warn_for)\n"
     ]
    },
    {
     "name": "stdout",
     "output_type": "stream",
     "text": [
      "INFO:jtr.jack.train.hooks:Epoch 1\tIter 25\ttotal 1000\tAccuracy: 0.336\tF1_macro: 0.217\tClassificationEvalHook\n",
      "INFO:jtr.jack.train.hooks:Epoch 1\tIter 30\tLoss 1.10379798412\n",
      "INFO:jtr.jack.train.hooks:Epoch 1\tIter 40\tLoss 1.10415589809\n",
      "INFO:jtr.jack.train.hooks:Epoch 1\tIter 50\tLoss 1.1075956583\n",
      "INFO:jtr.jack.train.hooks:Started evaluation ClassificationEvalHook\n",
      "INFO:jtr.jack.train.hooks:Epoch 1\tIter 50\ttotal 1000\tAccuracy: 0.358\tF1_macro: 0.288\tClassificationEvalHook\n",
      "INFO:jtr.jack.train.hooks:Epoch 1\tIter 60\tLoss 1.11435104609\n",
      "INFO:jtr.jack.train.hooks:Started evaluation ClassificationEvalHook\n",
      "INFO:jtr.jack.train.hooks:Epoch 1\tIter 62\ttotal 1000\tAccuracy: 0.418\tF1_macro: 0.330\tClassificationEvalHook\n",
      "INFO:jtr.jack.train.hooks:Epoch 2\tIter 70\tLoss 1.08942351341\n",
      "INFO:jtr.jack.train.hooks:Started evaluation ClassificationEvalHook\n",
      "INFO:jtr.jack.train.hooks:Epoch 2\tIter 75\ttotal 1000\tAccuracy: 0.409\tF1_macro: 0.317\tClassificationEvalHook\n",
      "INFO:jtr.jack.train.hooks:Epoch 2\tIter 80\tLoss 1.08438639641\n",
      "INFO:jtr.jack.train.hooks:Epoch 2\tIter 90\tLoss 1.03109071851\n",
      "INFO:jtr.jack.train.hooks:Epoch 2\tIter 100\tLoss 1.02274792194\n",
      "INFO:jtr.jack.train.hooks:Started evaluation ClassificationEvalHook\n",
      "INFO:jtr.jack.train.hooks:Epoch 2\tIter 100\ttotal 1000\tAccuracy: 0.433\tF1_macro: 0.345\tClassificationEvalHook\n",
      "INFO:jtr.jack.train.hooks:Epoch 2\tIter 110\tLoss 1.052094841\n",
      "INFO:jtr.jack.train.hooks:Epoch 2\tIter 120\tLoss 1.02497116327\n",
      "INFO:jtr.jack.train.hooks:Started evaluation ClassificationEvalHook\n",
      "INFO:jtr.jack.train.hooks:Epoch 2\tIter 124\ttotal 1000\tAccuracy: 0.461\tF1_macro: 0.431\tClassificationEvalHook\n"
     ]
    }
   ],
   "source": [
    "# Lets train the reader on the CPU for 2 epochs\n",
    "reader.train(optimizer, train_set,\n",
    "             hooks=hooks, max_epochs=2,\n",
    "             device='/cpu:0')"
   ]
  },
  {
   "cell_type": "markdown",
   "metadata": {
    "collapsed": true
   },
   "source": [
    "### Plotting the results"
   ]
  },
  {
   "cell_type": "code",
   "execution_count": 9,
   "metadata": {
    "scrolled": true
   },
   "outputs": [
    {
     "data": {
      "image/png": "[encoded data removed]",
      "text/plain": [
       "<matplotlib.figure.Figure at 0x7fabcf880518>"
      ]
     },
     "metadata": {},
     "output_type": "display_data"
    },
    {
     "data": {
      "image/png": "[encoded data removed]",
      "text/plain": [
       "<matplotlib.figure.Figure at 0x7fabcff75780>"
      ]
     },
     "metadata": {},
     "output_type": "display_data"
    }
   ],
   "source": [
    "# This plots the loss\n",
    "hooks[0].plot()\n",
    "# This plots the F1 (macro) score and accuracy between 0 and 1\n",
    "hooks[1].plot(ylim=[0.0, 1.0])"
   ]
  },
  {
   "cell_type": "markdown",
   "metadata": {
    "collapsed": true
   },
   "source": [
    "### Analysing errors"
   ]
  },
  {
   "cell_type": "code",
   "execution_count": 12,
   "metadata": {},
   "outputs": [
    {
     "name": "stdout",
     "output_type": "stream",
     "text": [
      "###########################################################################\n",
      "Question: People are standing on a sidewalk.\n",
      "Support: Pedestrians are gazing at a display of books set out on a sidewalk under a tree.\n",
      "Answer: neutral\n",
      "---------------------------------------------------------------------------\n",
      "Predicted class: entailment\n",
      "Predictions: [('neutral', 0.14441958), ('contradiction', 0.1962076), ('entailment', 0.65937281)]\n",
      "###########################################################################\n",
      "\n",
      "###########################################################################\n",
      "Question: The two boys are swimming with their floats\n",
      "Support: The two boys are swimming with boogie boards.\n",
      "Answer: entailment\n",
      "---------------------------------------------------------------------------\n",
      "Predicted class: contradiction\n",
      "Predictions: [('neutral', 0.43387231), ('contradiction', 0.43737411), ('entailment', 0.12875359)]\n",
      "###########################################################################\n",
      "\n",
      "###########################################################################\n",
      "Question: A person is performing a trick at the circus.\n",
      "Support: A man has flung himself over a pole with people and canopies in the background.\n",
      "Answer: neutral\n",
      "---------------------------------------------------------------------------\n",
      "Predicted class: entailment\n",
      "Predictions: [('neutral', 0.14728604), ('contradiction', 0.29949182), ('entailment', 0.55322212)]\n",
      "###########################################################################\n",
      "\n",
      "###########################################################################\n",
      "Question: several young people sitting outside\n",
      "Support: Several younger people sitting in front of a statue.\n",
      "Answer: neutral\n",
      "---------------------------------------------------------------------------\n",
      "Predicted class: entailment\n",
      "Predictions: [('neutral', 0.098333605), ('contradiction', 0.18910733), ('entailment', 0.71255898)]\n",
      "###########################################################################\n",
      "\n",
      "###########################################################################\n",
      "Question: A man is wearing a blue shirt.\n",
      "Support: Man wearing blue bowing on floor in front of another man in blue bowing on floor with two other men wearing blue kneeling on same floor also.\n",
      "Answer: neutral\n",
      "---------------------------------------------------------------------------\n",
      "Predicted class: entailment\n",
      "Predictions: [('neutral', 0.18073763), ('contradiction', 0.25952947), ('entailment', 0.55973285)]\n",
      "###########################################################################\n",
      "\n",
      "###########################################################################\n",
      "Question: Three people sit by a busy street bareheaded.\n",
      "Support: 3 young man in hoods standing in the middle of a quiet street facing the camera.\n",
      "Answer: contradiction\n",
      "---------------------------------------------------------------------------\n",
      "Predicted class: entailment\n",
      "Predictions: [('neutral', 0.09722288), ('contradiction', 0.16577592), ('entailment', 0.73700118)]\n",
      "###########################################################################\n",
      "\n",
      "###########################################################################\n",
      "Question: The girl is sitting on the beach.\n",
      "Support: A little girl with pointy pigtails is sitting in the sand on the beach.\n",
      "Answer: entailment\n",
      "---------------------------------------------------------------------------\n",
      "Predicted class: contradiction\n",
      "Predictions: [('neutral', 0.29460353), ('contradiction', 0.51482344), ('entailment', 0.19057304)]\n",
      "###########################################################################\n",
      "\n",
      "###########################################################################\n",
      "Question: The American football player in yellow catches the ball while under pressure from the player in white.\n",
      "Support: The American footballer in yellow catches the ball whilst under pressure from the payer in white.\n",
      "Answer: entailment\n",
      "---------------------------------------------------------------------------\n",
      "Predicted class: neutral\n",
      "Predictions: [('neutral', 0.58975178), ('contradiction', 0.31367004), ('entailment', 0.096578166)]\n",
      "###########################################################################\n",
      "\n",
      "###########################################################################\n",
      "Question: A few people walk with a man in uniform.\n",
      "Support: A family walking with a soldier.\n",
      "Answer: neutral\n",
      "---------------------------------------------------------------------------\n",
      "Predicted class: entailment\n",
      "Predictions: [('neutral', 0.096441165), ('contradiction', 0.17243621), ('entailment', 0.73112261)]\n",
      "###########################################################################\n",
      "\n",
      "###########################################################################\n",
      "Question: A man is repairing a dam.\n",
      "Support: A man is working on a Earthen structure with a pickaxe.\n",
      "Answer: neutral\n",
      "---------------------------------------------------------------------------\n",
      "Predicted class: entailment\n",
      "Predictions: [('neutral', 0.14194162), ('contradiction', 0.21766427), ('entailment', 0.64039409)]\n",
      "###########################################################################\n",
      "\n"
     ]
    }
   ],
   "source": [
    "# We can analyse what our model is doing by using the MisclassificationAnalyzerOutputModule.\n",
    "from jtr.jack.tasks.mcqa.simple_mcqa import MisclassificationOutputModule   \n",
    "\n",
    "# We want misclassifications where the model predicted a probability between 0 and 0.2, \n",
    "# and we want to print 10 examples\n",
    "reader.output_module = MisclassificationOutputModule(interval=[0.0, 0.20], limit=10)                                                                                                                     \n",
    "reader.process_outputs(test_set) # run the output module on the test set\n",
    "# From the output below we can see that our model still has problems to distinguishe between neutral and\n",
    "# entailment between premise and hypothesis"
   ]
  },
  {
   "cell_type": "code",
   "execution_count": null,
   "metadata": {
    "collapsed": true
   },
   "outputs": [],
   "source": []
  }
 ],
 "metadata": {
  "kernelspec": {
   "display_name": "Python 3",
   "language": "python",
   "name": "python3"
  },
  "language_info": {
   "codemirror_mode": {
    "name": "ipython",
    "version": 3
   },
   "file_extension": ".py",
   "mimetype": "text/x-python",
   "name": "python",
   "nbconvert_exporter": "python",
   "pygments_lexer": "ipython3",
   "version": "3.6.2"
  }
 },
 "nbformat": 4,
 "nbformat_minor": 1
}
