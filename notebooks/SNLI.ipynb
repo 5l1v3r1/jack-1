{
 "cells": [
  {
   "cell_type": "markdown",
   "metadata": {},
   "source": [
    "# Example Notebook to showcasing how we interact with JTReaders"
   ]
  },
  {
   "cell_type": "code",
   "execution_count": 1,
   "metadata": {
    "collapsed": false
   },
   "outputs": [],
   "source": [
    "# First change dir to Jack parent\n",
    "import os\n",
    "os.chdir('..')"
   ]
  },
  {
   "cell_type": "code",
   "execution_count": 2,
   "metadata": {
    "collapsed": false
   },
   "outputs": [],
   "source": [
    "# Configure Jack logger to print to standard output, that is console\n",
    "import sys, os\n",
    "import logging\n",
    "logging.basicConfig(stream=sys.stdout, level=logging.DEBUG)\n",
    "logger = logging.getLogger(os.path.basename(sys.argv[0]))"
   ]
  },
  {
   "cell_type": "markdown",
   "metadata": {},
   "source": [
    "### Bookkeeping of all existing readers: `readers.py`"
   ]
  },
  {
   "cell_type": "code",
   "execution_count": 3,
   "metadata": {
    "collapsed": false
   },
   "outputs": [
    {
     "name": "stdout",
     "output_type": "stream",
     "text": [
      "Existing models:\n",
      "example_reader, modelf_reader, snli_reader, fastqa_reader\n"
     ]
    }
   ],
   "source": [
    "import jtr.jack.readers as readers\n",
    "print(\"Existing models:\\n%s\" % \", \".join(readers.readers.keys()))"
   ]
  },
  {
   "cell_type": "markdown",
   "metadata": {},
   "source": [
    "### Load test data"
   ]
  },
  {
   "cell_type": "code",
   "execution_count": 4,
   "metadata": {
    "collapsed": false
   },
   "outputs": [],
   "source": [
    "# Loaded some test data to work on\n",
    "# This loads train, dev, and test data of sizes (2k, 1k, 1k)\n",
    "from jtr.jack.core import TestDatasets\n",
    "train_set, dev_set, test_set = TestDatasets.generate_SNLI()"
   ]
  },
  {
   "cell_type": "markdown",
   "metadata": {},
   "source": [
    "### Create a reader"
   ]
  },
  {
   "cell_type": "code",
   "execution_count": 5,
   "metadata": {
    "collapsed": false
   },
   "outputs": [],
   "source": [
    "from jtr.preprocess.vocab import Vocab\n",
    "# Create example reader with a basic config\n",
    "embedding_dim = 128\n",
    "hidden_dim = 128\n",
    "config = {\"batch_size\": 128, \"repr_dim\": hidden_dim, \"repr_dim_input\": embedding_dim, 'dropout' : 0.1}\n",
    "reader = readers.readers[\"snli_reader\"](Vocab(), config)"
   ]
  },
  {
   "cell_type": "markdown",
   "metadata": {},
   "source": [
    "### Add hooks"
   ]
  },
  {
   "cell_type": "code",
   "execution_count": 6,
   "metadata": {
    "collapsed": false
   },
   "outputs": [],
   "source": [
    "# We creates hooks which keep track of the loss\n",
    "# We also create 'the standard hook' for our model\n",
    "from jtr.jack.train.hooks import LossHook, ClassificationEvalHook\n",
    "hooks = [LossHook(reader, iter_interval=10),\n",
    "         readers.eval_hooks['snli_reader'](reader, dev_set, iter_interval=25)]"
   ]
  },
  {
   "cell_type": "markdown",
   "metadata": {},
   "source": [
    "### Initialize optimizer"
   ]
  },
  {
   "cell_type": "code",
   "execution_count": 7,
   "metadata": {
    "collapsed": true
   },
   "outputs": [],
   "source": [
    "# Here we initialize our optimizer\n",
    "# we choose Adam with standard momentum values and learning rate 0.001\n",
    "import tensorflow as tf\n",
    "learning_rate = 0.001\n",
    "optim = tf.train.AdamOptimizer(learning_rate)"
   ]
  },
  {
   "cell_type": "markdown",
   "metadata": {},
   "source": [
    "### Train reader"
   ]
  },
  {
   "cell_type": "code",
   "execution_count": null,
   "metadata": {
    "collapsed": false
   },
   "outputs": [
    {
     "name": "stdout",
     "output_type": "stream",
     "text": [
      "INFO:root:Setting up data and model...\n",
      "INFO:root:Start training...\n",
      "INFO:jtr.jack.train.hooks:Epoch 1\tIter 10\tLoss 1.10627046824\n",
      "INFO:jtr.jack.train.hooks:Epoch 1\tIter 20\tLoss 1.11009055376\n",
      "INFO:jtr.jack.train.hooks:Started evaluation ClassificationEvalHook\n",
      "INFO:jtr.jack.train.hooks:Epoch 1\tIter 25\ttotal 1000\texact: 0.329\tf1: 0.000\tClassificationEvalHook\n",
      "INFO:jtr.jack.train.hooks:Epoch 1\tIter 30\tLoss 1.10287501812\n",
      "INFO:jtr.jack.train.hooks:Epoch 1\tIter 40\tLoss 1.10451259613\n",
      "INFO:jtr.jack.train.hooks:Epoch 1\tIter 50\tLoss 1.10709911585\n",
      "INFO:jtr.jack.train.hooks:Started evaluation ClassificationEvalHook\n",
      "INFO:jtr.jack.train.hooks:Epoch 1\tIter 50\ttotal 1000\texact: 0.359\tf1: 0.000\tClassificationEvalHook\n"
     ]
    }
   ],
   "source": [
    "# Lets train the reader on the CPU for 2 epochs\n",
    "reader.train(optim, train_set,\n",
    "             hooks=hooks, max_epochs=2,\n",
    "             device='/cpu:0')"
   ]
  },
  {
   "cell_type": "code",
   "execution_count": null,
   "metadata": {
    "collapsed": true
   },
   "outputs": [],
   "source": []
  }
 ],
 "metadata": {
  "kernelspec": {
   "display_name": "Python 3",
   "language": "python",
   "name": "python3"
  },
  "language_info": {
   "codemirror_mode": {
    "name": "ipython",
    "version": 3
   },
   "file_extension": ".py",
   "mimetype": "text/x-python",
   "name": "python",
   "nbconvert_exporter": "python",
   "pygments_lexer": "ipython3",
   "version": "3.4.3"
  }
 },
 "nbformat": 4,
 "nbformat_minor": 1
}
