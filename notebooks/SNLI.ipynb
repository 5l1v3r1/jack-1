{
 "cells": [
  {
   "cell_type": "markdown",
   "metadata": {},
   "source": [
    "# Example Notebook to showcasing how we interact with JTReaders"
   ]
  },
  {
   "cell_type": "code",
   "execution_count": 1,
   "metadata": {
    "collapsed": false
   },
   "outputs": [],
   "source": [
    "# First change dir to Jack parent\n",
    "import os\n",
    "os.chdir('..')"
   ]
  },
  {
   "cell_type": "code",
   "execution_count": 2,
   "metadata": {
    "collapsed": false
   },
   "outputs": [],
   "source": [
    "# Configure Jack logger to print to standard output, that is console\n",
    "import sys, os\n",
    "import logging\n",
    "logging.basicConfig(stream=sys.stdout, level=logging.DEBUG)\n",
    "logger = logging.getLogger(os.path.basename(sys.argv[0]))"
   ]
  },
  {
   "cell_type": "markdown",
   "metadata": {},
   "source": [
    "### Bookkeeping of all existing readers: `readers.py`"
   ]
  },
  {
   "cell_type": "code",
   "execution_count": 3,
   "metadata": {
    "collapsed": false
   },
   "outputs": [
    {
     "name": "stdout",
     "output_type": "stream",
     "text": [
      "Existing models:\n",
      "snli_reader, fastqa_reader, modelf_reader, example_reader\n"
     ]
    }
   ],
   "source": [
    "import jtr.jack.readers as readers\n",
    "print(\"Existing models:\\n%s\" % \", \".join(readers.readers.keys()))"
   ]
  },
  {
   "cell_type": "markdown",
   "metadata": {},
   "source": [
    "### Load test data"
   ]
  },
  {
   "cell_type": "code",
   "execution_count": 4,
   "metadata": {
    "collapsed": false
   },
   "outputs": [],
   "source": [
    "# Loaded some test data to work on\n",
    "# This loads train, dev, and test data of sizes (2k, 1k, 1k)\n",
    "from jtr.jack.core import TestDatasets\n",
    "train_set, dev_set, test_set = TestDatasets.generate_SNLI()"
   ]
  },
  {
   "cell_type": "markdown",
   "metadata": {},
   "source": [
    "### Create a reader"
   ]
  },
  {
   "cell_type": "code",
   "execution_count": 5,
   "metadata": {
    "collapsed": false
   },
   "outputs": [],
   "source": [
    "from jtr.preprocess.vocab import Vocab\n",
    "# Create example reader with a basic config\n",
    "embedding_dim = 128\n",
    "hidden_dim = 128\n",
    "config = {\"batch_size\": 128, \"repr_dim\": hidden_dim, \"repr_dim_input\": embedding_dim, 'dropout' : 0.1}\n",
    "reader = readers.readers[\"snli_reader\"](Vocab(), config)"
   ]
  },
  {
   "cell_type": "markdown",
   "metadata": {},
   "source": [
    "### Add hooks"
   ]
  },
  {
   "cell_type": "code",
   "execution_count": 6,
   "metadata": {
    "collapsed": false
   },
   "outputs": [],
   "source": [
    "# We create hooks which keep track of the metrics such as the loss\n",
    "# We also create a classification metric monitoring hook for our model\n",
    "from jtr.jack.train.hooks import LossHook, ClassificationEvalHook\n",
    "hooks = [LossHook(reader, iter_interval=10),\n",
    "         readers.eval_hooks['snli_reader'](reader, dev_set, iter_interval=25)]"
   ]
  },
  {
   "cell_type": "markdown",
   "metadata": {},
   "source": [
    "### Initialize optimizer"
   ]
  },
  {
   "cell_type": "code",
   "execution_count": 7,
   "metadata": {
    "collapsed": true
   },
   "outputs": [],
   "source": [
    "# Here we initialize our optimizer\n",
    "# we choose Adam with standard momentum values and learning rate 0.001\n",
    "import tensorflow as tf\n",
    "learning_rate = 0.001\n",
    "optim = tf.train.AdamOptimizer(learning_rate)"
   ]
  },
  {
   "cell_type": "markdown",
   "metadata": {},
   "source": [
    "### Train reader"
   ]
  },
  {
   "cell_type": "code",
   "execution_count": 8,
   "metadata": {
    "collapsed": false,
    "scrolled": true
   },
   "outputs": [
    {
     "name": "stdout",
     "output_type": "stream",
     "text": [
      "INFO:root:Setting up data and model...\n",
      "INFO:root:Start training...\n",
      "INFO:jtr.jack.train.hooks:Epoch 1\tIter 10\tLoss 1.10676178932\n",
      "INFO:jtr.jack.train.hooks:Epoch 1\tIter 20\tLoss 1.10865485668\n",
      "INFO:jtr.jack.train.hooks:Started evaluation ClassificationEvalHook\n"
     ]
    },
    {
     "name": "stderr",
     "output_type": "stream",
     "text": [
      "/usr/local/lib/python3.4/dist-packages/sklearn/metrics/classification.py:1113: UndefinedMetricWarning: F-score is ill-defined and being set to 0.0 in labels with no predicted samples.\n",
      "  'precision', 'predicted', average, warn_for)\n"
     ]
    },
    {
     "name": "stdout",
     "output_type": "stream",
     "text": [
      "INFO:jtr.jack.train.hooks:Epoch 1\tIter 25\ttotal 1000\tAccuracy: 0.345\tF1_macro: 0.250\tClassificationEvalHook\n",
      "INFO:jtr.jack.train.hooks:Epoch 1\tIter 30\tLoss 1.10322619677\n",
      "INFO:jtr.jack.train.hooks:Epoch 1\tIter 40\tLoss 1.10269992352\n",
      "INFO:jtr.jack.train.hooks:Epoch 1\tIter 50\tLoss 1.10005179644\n",
      "INFO:jtr.jack.train.hooks:Started evaluation ClassificationEvalHook\n",
      "INFO:jtr.jack.train.hooks:Epoch 1\tIter 50\ttotal 1000\tAccuracy: 0.410\tF1_macro: 0.397\tClassificationEvalHook\n",
      "INFO:jtr.jack.train.hooks:Epoch 1\tIter 60\tLoss 1.10950613022\n",
      "INFO:jtr.jack.train.hooks:Started evaluation ClassificationEvalHook\n",
      "INFO:jtr.jack.train.hooks:Epoch 1\tIter 62\ttotal 1000\tAccuracy: 0.425\tF1_macro: 0.383\tClassificationEvalHook\n",
      "INFO:jtr.jack.train.hooks:Epoch 2\tIter 70\tLoss 1.07826849222\n",
      "INFO:jtr.jack.train.hooks:Started evaluation ClassificationEvalHook\n",
      "INFO:jtr.jack.train.hooks:Epoch 2\tIter 75\ttotal 1000\tAccuracy: 0.416\tF1_macro: 0.318\tClassificationEvalHook\n",
      "INFO:jtr.jack.train.hooks:Epoch 2\tIter 80\tLoss 1.07732028961\n",
      "INFO:jtr.jack.train.hooks:Epoch 2\tIter 90\tLoss 1.01907250285\n",
      "INFO:jtr.jack.train.hooks:Epoch 2\tIter 100\tLoss 1.07679840326\n",
      "INFO:jtr.jack.train.hooks:Started evaluation ClassificationEvalHook\n",
      "INFO:jtr.jack.train.hooks:Epoch 2\tIter 100\ttotal 1000\tAccuracy: 0.426\tF1_macro: 0.346\tClassificationEvalHook\n",
      "INFO:jtr.jack.train.hooks:Epoch 2\tIter 110\tLoss 1.04016413689\n",
      "INFO:jtr.jack.train.hooks:Epoch 2\tIter 120\tLoss 1.02554363012\n",
      "INFO:jtr.jack.train.hooks:Started evaluation ClassificationEvalHook\n",
      "INFO:jtr.jack.train.hooks:Epoch 2\tIter 124\ttotal 1000\tAccuracy: 0.443\tF1_macro: 0.391\tClassificationEvalHook\n"
     ]
    }
   ],
   "source": [
    "# Lets train the reader on the CPU for 2 epochs\n",
    "reader.train(optim, train_set,\n",
    "             hooks=hooks, max_epochs=2,\n",
    "             device='/cpu:0')"
   ]
  },
  {
   "cell_type": "markdown",
   "metadata": {
    "collapsed": true
   },
   "source": [
    "### Plotting the results"
   ]
  },
  {
   "cell_type": "code",
   "execution_count": 9,
   "metadata": {
    "collapsed": false,
    "scrolled": true
   },
   "outputs": [
    {
     "data": {
      "image/png": "[encoded data removed]",
      "text/plain": [
       "<matplotlib.figure.Figure at 0x7f2fdf5eaf60>"
      ]
     },
     "metadata": {},
     "output_type": "display_data"
    },
    {
     "data": {
      "image/png": "[encoded data removed]",
      "text/plain": [
       "<matplotlib.figure.Figure at 0x7f2fdec658d0>"
      ]
     },
     "metadata": {},
     "output_type": "display_data"
    }
   ],
   "source": [
    "# This plots the loss\n",
    "hooks[0].plot()\n",
    "# This plots the F1 (macro) score and accuracy between 0 and 1\n",
    "hooks[1].plot(ylim=[0.0, 1.0])\n"
   ]
  },
  {
   "cell_type": "code",
   "execution_count": null,
   "metadata": {
    "collapsed": true
   },
   "outputs": [],
   "source": []
  }
 ],
 "metadata": {
  "kernelspec": {
   "display_name": "Python 3",
   "language": "python",
   "name": "python3"
  },
  "language_info": {
   "codemirror_mode": {
    "name": "ipython",
    "version": 3
   },
   "file_extension": ".py",
   "mimetype": "text/x-python",
   "name": "python",
   "nbconvert_exporter": "python",
   "pygments_lexer": "ipython3",
   "version": "3.4.3"
  }
 },
 "nbformat": 4,
 "nbformat_minor": 1
}
