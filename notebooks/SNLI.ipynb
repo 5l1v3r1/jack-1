{
 "cells": [
  {
   "cell_type": "markdown",
   "metadata": {},
   "source": [
    "# Example Notebook to showcasing how we interact with JTReaders"
   ]
  },
  {
   "cell_type": "code",
   "execution_count": 1,
   "metadata": {
    "collapsed": true
   },
   "outputs": [],
   "source": [
    "# First change dir to JTR parent\n",
    "import os\n",
    "os.chdir('..')"
   ]
  },
  {
   "cell_type": "markdown",
   "metadata": {},
   "source": [
    "### Bookkeeping of all existing readers: `readers.py`"
   ]
  },
  {
   "cell_type": "code",
   "execution_count": 2,
   "metadata": {},
   "outputs": [
    {
     "name": "stdout",
     "output_type": "stream",
     "text": [
      "Existing models:\n",
      "bidaf_reader, esim_snli_reader, cbow_xqa_reader, cbilstm_snli_reader, complex_reader, fastqa_reader, distmult_reader, modelf_reader, transe_reader, dam_snli_reader\n"
     ]
    }
   ],
   "source": [
    "import jack.readers as readers\n",
    "\n",
    "print(\"Existing models:\\n{}\".format(\", \".join(readers.readers.keys())))"
   ]
  },
  {
   "cell_type": "markdown",
   "metadata": {},
   "source": [
    "### Load test data"
   ]
  },
  {
   "cell_type": "code",
   "execution_count": 3,
   "metadata": {},
   "outputs": [],
   "source": [
    "# Loaded some test data to work on\n",
    "# This loads train, dev, and test data of sizes (2k, 1k, 1k)\n",
    "import os\n",
    "from jack.io.load import load_jack\n",
    "\n",
    "\n",
    "class TestDatasets:\n",
    "    @staticmethod\n",
    "    def generate():\n",
    "        snli_path, snli_data = 'tests/test_data/SNLI/', []\n",
    "        splits = ['train.json', 'dev.json', 'test.json']\n",
    "        for split in splits:\n",
    "            path = os.path.join(snli_path, split)\n",
    "            snli_data.append(load_jack(path))\n",
    "\n",
    "        return snli_data\n",
    "\n",
    "train_set, dev_set, test_set = TestDatasets.generate()"
   ]
  },
  {
   "cell_type": "markdown",
   "metadata": {},
   "source": [
    "### Create a reader"
   ]
  },
  {
   "cell_type": "code",
   "execution_count": 9,
   "metadata": {},
   "outputs": [],
   "source": [
    "from jack.core import SharedResources\n",
    "from jack.util.vocab import Vocab\n",
    "\n",
    "# Create example reader with a basic config\n",
    "embedding_dim = 128\n",
    "hidden_dim = 128\n",
    "config = {\"batch_size\": 128, \"repr_dim\": hidden_dim, \"repr_dim_input\": embedding_dim, 'dropout' : 0.1}\n",
    "svac = SharedResources(Vocab(), config)\n",
    "\n",
    "reader = readers.readers[\"dam_snli_reader\"](svac)"
   ]
  },
  {
   "cell_type": "markdown",
   "metadata": {},
   "source": [
    "### Add hooks"
   ]
  },
  {
   "cell_type": "code",
   "execution_count": 10,
   "metadata": {
    "collapsed": true
   },
   "outputs": [],
   "source": [
    "# We create hooks which keep track of the metrics such as the loss\n",
    "# We also create a classification metric monitoring hook for our model\n",
    "from jack.util.hooks import LossHook\n",
    "\n",
    "hooks = [LossHook(reader, iter_interval=10),\n",
    "         readers.eval_hooks['dam_snli_reader'](reader, dev_set, iter_interval=25, batch_size=32)]"
   ]
  },
  {
   "cell_type": "markdown",
   "metadata": {},
   "source": [
    "### Initialise optimiser"
   ]
  },
  {
   "cell_type": "code",
   "execution_count": 11,
   "metadata": {
    "collapsed": true
   },
   "outputs": [],
   "source": [
    "# Here we initialise our optimiser\n",
    "# we choose Adam with standard momentum values and learning rate 0.001\n",
    "import tensorflow as tf\n",
    "\n",
    "learning_rate = 0.001\n",
    "optimizer = tf.train.AdamOptimizer(learning_rate)"
   ]
  },
  {
   "cell_type": "markdown",
   "metadata": {},
   "source": [
    "### Train reader"
   ]
  },
  {
   "cell_type": "code",
   "execution_count": 12,
   "metadata": {
    "scrolled": false
   },
   "outputs": [
    {
     "name": "stdout",
     "output_type": "stream",
     "text": [
      "INFO:jack.core.reader:Start training...\n",
      "INFO:jack.util.hooks:Epoch 1\tIter 10\ttrain loss 1.0986157536506653\n",
      "INFO:jack.util.hooks:Epoch 1\tIter 20\ttrain loss 1.0985039234161378\n",
      "INFO:jack.util.hooks:Started evaluation ClassificationEvalHook\n"
     ]
    },
    {
     "name": "stderr",
     "output_type": "stream",
     "text": [
      "/home/pasquale/.local/lib/python3.5/site-packages/sklearn/metrics/classification.py:1113: UndefinedMetricWarning: F-score is ill-defined and being set to 0.0 in labels with no predicted samples.\n",
      "  'precision', 'predicted', average, warn_for)\n"
     ]
    },
    {
     "name": "stdout",
     "output_type": "stream",
     "text": [
      "INFO:jack.util.hooks:Epoch 1\tIter 25\ttotal 1000\tAccuracy: 0.336\tF1_macro: 0.167\tClassificationEvalHook\n",
      "INFO:jack.util.hooks:Epoch 1\tIter 30\ttrain loss 1.0990607857704162\n",
      "INFO:jack.util.hooks:Epoch 1\tIter 40\ttrain loss 1.0988498687744142\n",
      "INFO:jack.util.hooks:Epoch 1\tIter 50\ttrain loss 1.098540711402893\n",
      "INFO:jack.util.hooks:Started evaluation ClassificationEvalHook\n",
      "INFO:jack.util.hooks:Epoch 1\tIter 50\ttotal 1000\tAccuracy: 0.336\tF1_macro: 0.167\tClassificationEvalHook\n",
      "INFO:jack.util.hooks:Epoch 1\tIter 60\ttrain loss 1.0987808346748351\n",
      "INFO:jack.util.hooks:Started evaluation ClassificationEvalHook\n",
      "INFO:jack.util.hooks:Epoch 1\tIter 63\ttotal 1000\tAccuracy: 0.363\tF1_macro: 0.287\tClassificationEvalHook\n",
      "INFO:jack.util.hooks:Epoch 2\tIter 70\ttrain loss 1.0969327449798585\n",
      "INFO:jack.util.hooks:Started evaluation ClassificationEvalHook\n",
      "INFO:jack.util.hooks:Epoch 2\tIter 75\ttotal 1000\tAccuracy: 0.394\tF1_macro: 0.287\tClassificationEvalHook\n",
      "INFO:jack.util.hooks:Epoch 2\tIter 80\ttrain loss 1.0809378981590272\n",
      "INFO:jack.util.hooks:Epoch 2\tIter 90\ttrain loss 1.0754752278327941\n",
      "INFO:jack.util.hooks:Epoch 2\tIter 100\ttrain loss 1.0663073062896729\n",
      "INFO:jack.util.hooks:Started evaluation ClassificationEvalHook\n",
      "INFO:jack.util.hooks:Epoch 2\tIter 100\ttotal 1000\tAccuracy: 0.421\tF1_macro: 0.354\tClassificationEvalHook\n",
      "INFO:jack.util.hooks:Epoch 2\tIter 110\ttrain loss 1.0824678421020508\n",
      "INFO:jack.util.hooks:Epoch 2\tIter 120\ttrain loss 1.056302559375763\n",
      "INFO:jack.util.hooks:Started evaluation ClassificationEvalHook\n",
      "INFO:jack.util.hooks:Epoch 2\tIter 125\ttotal 1000\tAccuracy: 0.436\tF1_macro: 0.385\tClassificationEvalHook\n",
      "INFO:jack.util.hooks:Started evaluation ClassificationEvalHook\n",
      "INFO:jack.util.hooks:Epoch 2\tIter 126\ttotal 1000\tAccuracy: 0.435\tF1_macro: 0.380\tClassificationEvalHook\n"
     ]
    }
   ],
   "source": [
    "# Lets train the reader on the CPU for 2 epochs\n",
    "reader.train(optimizer, train_set, hooks=hooks, max_epochs=2, batch_size=32)"
   ]
  },
  {
   "cell_type": "markdown",
   "metadata": {
    "collapsed": true
   },
   "source": [
    "### Plotting the results"
   ]
  },
  {
   "cell_type": "code",
   "execution_count": 13,
   "metadata": {
    "scrolled": true
   },
   "outputs": [
    {
     "data": {
      "image/png": "[encoded data removed]",
      "text/plain": [
       "<matplotlib.figure.Figure at 0x7f6445b18f98>"
      ]
     },
     "metadata": {},
     "output_type": "display_data"
    },
    {
     "data": {
      "image/png": "[encoded data removed]",
      "text/plain": [
       "<matplotlib.figure.Figure at 0x7f6445b4ada0>"
      ]
     },
     "metadata": {},
     "output_type": "display_data"
    }
   ],
   "source": [
    "# This plots the loss\n",
    "hooks[0].plot()\n",
    "# This plots the F1 (macro) score and accuracy between 0 and 1\n",
    "hooks[1].plot(ylim=[0.0, 1.0])"
   ]
  },
  {
   "cell_type": "markdown",
   "metadata": {
    "collapsed": true
   },
   "source": [
    "### Analysing errors"
   ]
  },
  {
   "cell_type": "code",
   "execution_count": 15,
   "metadata": {},
   "outputs": [
    {
     "ename": "AttributeError",
     "evalue": "can't set attribute",
     "output_type": "error",
     "traceback": [
      "\u001b[0;31m---------------------------------------------------------------------------\u001b[0m",
      "\u001b[0;31mAttributeError\u001b[0m                            Traceback (most recent call last)",
      "\u001b[0;32m<ipython-input-15-7d264215851a>\u001b[0m in \u001b[0;36m<module>\u001b[0;34m()\u001b[0m\n\u001b[1;32m      4\u001b[0m \u001b[0;31m# We want misclassifications where the model predicted a probability between 0 and 0.2,\u001b[0m\u001b[0;34m\u001b[0m\u001b[0;34m\u001b[0m\u001b[0m\n\u001b[1;32m      5\u001b[0m \u001b[0;31m# and we want to print 10 examples\u001b[0m\u001b[0;34m\u001b[0m\u001b[0;34m\u001b[0m\u001b[0m\n\u001b[0;32m----> 6\u001b[0;31m \u001b[0mreader\u001b[0m\u001b[0;34m.\u001b[0m\u001b[0moutput_module\u001b[0m \u001b[0;34m=\u001b[0m \u001b[0mMisclassificationOutputModule\u001b[0m\u001b[0;34m(\u001b[0m\u001b[0minterval\u001b[0m\u001b[0;34m=\u001b[0m\u001b[0;34m[\u001b[0m\u001b[0;36m0.0\u001b[0m\u001b[0;34m,\u001b[0m \u001b[0;36m0.20\u001b[0m\u001b[0;34m]\u001b[0m\u001b[0;34m,\u001b[0m \u001b[0mlimit\u001b[0m\u001b[0;34m=\u001b[0m\u001b[0;36m10\u001b[0m\u001b[0;34m)\u001b[0m\u001b[0;34m\u001b[0m\u001b[0m\n\u001b[0m\u001b[1;32m      7\u001b[0m \u001b[0mreader\u001b[0m\u001b[0;34m.\u001b[0m\u001b[0mprocess_outputs\u001b[0m\u001b[0;34m(\u001b[0m\u001b[0mtest_set\u001b[0m\u001b[0;34m)\u001b[0m \u001b[0;31m# run the output module on the test set\u001b[0m\u001b[0;34m\u001b[0m\u001b[0m\n\u001b[1;32m      8\u001b[0m \u001b[0;31m# From the output below we can see that our model still has problems to distinguishe between neutral and\u001b[0m\u001b[0;34m\u001b[0m\u001b[0;34m\u001b[0m\u001b[0m\n",
      "\u001b[0;31mAttributeError\u001b[0m: can't set attribute"
     ]
    }
   ],
   "source": [
    "# We can analyse what our model is doing by using the MisclassificationAnalyzerOutputModule.\n",
    "from jack.readers.multiple_choice.shared import MisclassificationOutputModule   \n",
    "\n",
    "# We want misclassifications where the model predicted a probability between 0 and 0.2, \n",
    "# and we want to print 10 examples\n",
    "\n",
    "reader.output_module = MisclassificationOutputModule(interval=[0.0, 0.20], limit=10)                                                                                                                     \n",
    "reader.process_outputs(test_set) # run the output module on the test set\n",
    "\n",
    "# From the output below we can see that our model still has problems to distinguishe between neutral and\n",
    "# entailment between premise and hypothesis"
   ]
  },
  {
   "cell_type": "code",
   "execution_count": null,
   "metadata": {
    "collapsed": true
   },
   "outputs": [],
   "source": []
  }
 ],
 "metadata": {
  "hide_input": false,
  "kernelspec": {
   "display_name": "Python 3",
   "language": "python",
   "name": "python3"
  },
  "language_info": {
   "codemirror_mode": {
    "name": "ipython",
    "version": 3
   },
   "file_extension": ".py",
   "mimetype": "text/x-python",
   "name": "python",
   "nbconvert_exporter": "python",
   "pygments_lexer": "ipython3",
   "version": "3.5.4"
  }
 },
 "nbformat": 4,
 "nbformat_minor": 1
}
