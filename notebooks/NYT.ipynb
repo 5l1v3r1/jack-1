{
 "cells": [
  {
   "cell_type": "markdown",
   "metadata": {
    "deletable": true,
    "editable": true
   },
   "source": [
    "# Example Notebook to showcasing how we interact with JTReaders"
   ]
  },
  {
   "cell_type": "code",
   "execution_count": 1,
   "metadata": {
    "collapsed": false,
    "deletable": true,
    "editable": true
   },
   "outputs": [],
   "source": [
    "# First change dir to Jack parent\n",
    "import os\n",
    "os.chdir('..')"
   ]
  },
  {
   "cell_type": "code",
   "execution_count": 2,
   "metadata": {
    "collapsed": false,
    "deletable": true,
    "editable": true
   },
   "outputs": [],
   "source": [
    "# Configure Jack logger to print to standard output, that is console\n",
    "import sys\n",
    "import os\n",
    "import logging\n",
    "logging.basicConfig(stream=sys.stdout, level=logging.DEBUG)\n",
    "logger = logging.getLogger(os.path.basename(sys.argv[0]))"
   ]
  },
  {
   "cell_type": "markdown",
   "metadata": {
    "deletable": true,
    "editable": true
   },
   "source": [
    "### Bookkeeping of all existing readers: `readers.py`"
   ]
  },
  {
   "cell_type": "code",
   "execution_count": 3,
   "metadata": {
    "collapsed": false,
    "deletable": true,
    "editable": true
   },
   "outputs": [
    {
     "name": "stdout",
     "output_type": "stream",
     "text": [
      "Existing models:\n",
      "modelf_reader, fastqa_reader, example_reader, snli_reader\n"
     ]
    }
   ],
   "source": [
    "import jtr.jack.readers as readers\n",
    "print(\"Existing models:\\n%s\" % \", \".join(readers.readers.keys()))"
   ]
  },
  {
   "cell_type": "markdown",
   "metadata": {
    "deletable": true,
    "editable": true
   },
   "source": [
    "### Datasets"
   ]
  },
  {
   "cell_type": "code",
   "execution_count": 4,
   "metadata": {
    "collapsed": false,
    "deletable": true,
    "editable": true
   },
   "outputs": [],
   "source": [
    "from jtr.jack.core.data_structures import load_labelled_data\n",
    "# Read in NYT snippet\n",
    "data = load_labelled_data(\"data/NYT/naacl2013_snippet.jtr.json\")"
   ]
  },
  {
   "cell_type": "markdown",
   "metadata": {
    "deletable": true,
    "editable": true
   },
   "source": [
    "### Create a reader"
   ]
  },
  {
   "cell_type": "code",
   "execution_count": 5,
   "metadata": {
    "collapsed": false,
    "deletable": true,
    "editable": true
   },
   "outputs": [],
   "source": [
    "from jtr.preprocess.vocab import Vocab\n",
    "# Create example reader with a basic config\n",
    "config = {\"batch_size\": 128, \"repr_dim\": 100}\n",
    "reader = readers.readers[\"modelf_reader\"](Vocab(), config)"
   ]
  },
  {
   "cell_type": "markdown",
   "metadata": {
    "deletable": true,
    "editable": true
   },
   "source": [
    "### Add hooks"
   ]
  },
  {
   "cell_type": "code",
   "execution_count": 6,
   "metadata": {
    "collapsed": false,
    "deletable": true,
    "editable": true
   },
   "outputs": [
    {
     "name": "stdout",
     "output_type": "stream",
     "text": [
      "None\n"
     ]
    }
   ],
   "source": [
    "# We create hooks which keep track of the metrics such as the loss\n",
    "# We also create a classification metric monitoring hook for our model\n",
    "from jtr.jack.train.hooks import LossHook\n",
    "hooks = [LossHook(reader, iter_interval=10),\n",
    "         readers.eval_hooks['modelf_reader'](reader, data, iter_interval=25)]"
   ]
  },
  {
   "cell_type": "markdown",
   "metadata": {
    "deletable": true,
    "editable": true
   },
   "source": [
    "### Initialize optimizer"
   ]
  },
  {
   "cell_type": "code",
   "execution_count": 7,
   "metadata": {
    "collapsed": true,
    "deletable": true,
    "editable": true
   },
   "outputs": [],
   "source": [
    "# Here we initialize our optimizer\n",
    "# we choose Adam with standard momentum values and learning rate 0.001\n",
    "import tensorflow as tf\n",
    "learning_rate = 0.005\n",
    "optim = tf.train.AdamOptimizer(learning_rate)"
   ]
  },
  {
   "cell_type": "markdown",
   "metadata": {
    "deletable": true,
    "editable": true
   },
   "source": [
    "### Train reader"
   ]
  },
  {
   "cell_type": "code",
   "execution_count": 8,
   "metadata": {
    "collapsed": false,
    "deletable": true,
    "editable": true,
    "scrolled": true
   },
   "outputs": [
    {
     "name": "stdout",
     "output_type": "stream",
     "text": [
      "INFO:root:Setting up data and model...\n",
      "INFO:root:Start training...\n",
      "INFO:jtr.jack.train.hooks:Started evaluation KBPEvalHook\n",
      "None\n",
      "None\n",
      "INFO:jtr.jack.train.hooks:Epoch 1\tIter 7\ttotal 1000\tepoch: 0.896\texact: 0.732\tKBPEvalHook\n",
      "INFO:jtr.jack.train.hooks:Epoch 2\tIter 10\tLoss 177.128419495\n",
      "INFO:jtr.jack.train.hooks:Started evaluation KBPEvalHook\n",
      "None\n",
      "None\n",
      "INFO:jtr.jack.train.hooks:Epoch 2\tIter 14\ttotal 1000\tepoch: 1.792\texact: 0.869\tKBPEvalHook\n",
      "INFO:jtr.jack.train.hooks:Epoch 3\tIter 20\tLoss 175.237355042\n",
      "INFO:jtr.jack.train.hooks:Started evaluation KBPEvalHook\n",
      "None\n",
      "None\n",
      "INFO:jtr.jack.train.hooks:Epoch 3\tIter 21\ttotal 1000\tepoch: 2.688\texact: 0.894\tKBPEvalHook\n",
      "INFO:jtr.jack.train.hooks:Started evaluation KBPEvalHook\n",
      "None\n",
      "None\n",
      "INFO:jtr.jack.train.hooks:Epoch 4\tIter 25\ttotal 1000\tepoch: 2.688\texact: 0.894\tKBPEvalHook\n",
      "INFO:jtr.jack.train.hooks:Started evaluation KBPEvalHook\n",
      "None\n",
      "None\n",
      "INFO:jtr.jack.train.hooks:Epoch 4\tIter 28\ttotal 1000\tepoch: 3.584\texact: 0.896\tKBPEvalHook\n",
      "INFO:jtr.jack.train.hooks:Epoch 5\tIter 30\tLoss 173.127996826\n",
      "INFO:jtr.jack.train.hooks:Started evaluation KBPEvalHook\n",
      "None\n",
      "None\n",
      "INFO:jtr.jack.train.hooks:Epoch 5\tIter 35\ttotal 1000\tepoch: 4.480\texact: 0.896\tKBPEvalHook\n",
      "INFO:jtr.jack.train.hooks:Epoch 6\tIter 40\tLoss 170.714112854\n",
      "INFO:jtr.jack.train.hooks:Started evaluation KBPEvalHook\n",
      "None\n",
      "None\n",
      "INFO:jtr.jack.train.hooks:Epoch 6\tIter 42\ttotal 1000\tepoch: 5.376\texact: 0.896\tKBPEvalHook\n",
      "INFO:jtr.jack.train.hooks:Started evaluation KBPEvalHook\n",
      "None\n",
      "None\n",
      "INFO:jtr.jack.train.hooks:Epoch 7\tIter 49\ttotal 1000\tepoch: 6.272\texact: 0.896\tKBPEvalHook\n",
      "INFO:jtr.jack.train.hooks:Epoch 8\tIter 50\tLoss 167.878114319\n",
      "INFO:jtr.jack.train.hooks:Started evaluation KBPEvalHook\n",
      "None\n",
      "None\n",
      "INFO:jtr.jack.train.hooks:Epoch 8\tIter 50\ttotal 1000\tepoch: 6.272\texact: 0.896\tKBPEvalHook\n",
      "INFO:jtr.jack.train.hooks:Started evaluation KBPEvalHook\n",
      "None\n",
      "None\n",
      "INFO:jtr.jack.train.hooks:Epoch 8\tIter 56\ttotal 1000\tepoch: 7.168\texact: 0.896\tKBPEvalHook\n",
      "INFO:jtr.jack.train.hooks:Epoch 9\tIter 60\tLoss 164.344276428\n",
      "INFO:jtr.jack.train.hooks:Started evaluation KBPEvalHook\n",
      "None\n",
      "None\n",
      "INFO:jtr.jack.train.hooks:Epoch 9\tIter 63\ttotal 1000\tepoch: 8.064\texact: 0.896\tKBPEvalHook\n",
      "INFO:jtr.jack.train.hooks:Epoch 10\tIter 70\tLoss 160.283586121\n",
      "INFO:jtr.jack.train.hooks:Started evaluation KBPEvalHook\n",
      "None\n",
      "None\n",
      "INFO:jtr.jack.train.hooks:Epoch 10\tIter 70\ttotal 1000\tepoch: 8.960\texact: 0.896\tKBPEvalHook\n"
     ]
    }
   ],
   "source": [
    "# Lets train the reader on the CPU for 10 epochs\n",
    "reader.train(optim, data,\n",
    "             hooks=hooks, max_epochs=10,\n",
    "             device='/cpu:0')"
   ]
  },
  {
   "cell_type": "markdown",
   "metadata": {
    "collapsed": true,
    "deletable": true,
    "editable": true
   },
   "source": [
    "### Plotting the results"
   ]
  },
  {
   "cell_type": "code",
   "execution_count": 13,
   "metadata": {
    "collapsed": false,
    "deletable": true,
    "editable": true,
    "scrolled": true
   },
   "outputs": [
    {
     "data": {
      "image/png": "[encoded data removed]",
      "text/plain": [
       "<matplotlib.figure.Figure at 0x7efbca7ecc18>"
      ]
     },
     "metadata": {},
     "output_type": "display_data"
    },
    {
     "data": {
      "image/png": "[encoded data removed]",
      "text/plain": [
       "<matplotlib.figure.Figure at 0x7efbd002b5f8>"
      ]
     },
     "metadata": {},
     "output_type": "display_data"
    }
   ],
   "source": [
    "# This plots the loss\n",
    "hooks[0].plot()\n",
    "# This plots the F1 (macro) score and accuracy between 0 and 1\n",
    "hooks[1].plot(ylim=[0.0, 1.0])"
   ]
  },
  {
   "cell_type": "code",
   "execution_count": null,
   "metadata": {
    "collapsed": true,
    "deletable": true,
    "editable": true
   },
   "outputs": [],
   "source": [
    ""
   ]
  }
 ],
 "metadata": {
  "kernelspec": {
   "display_name": "Python 3",
   "language": "python",
   "name": "python3"
  },
  "language_info": {
   "codemirror_mode": {
    "name": "ipython",
    "version": 3.0
   },
   "file_extension": ".py",
   "mimetype": "text/x-python",
   "name": "python",
   "nbconvert_exporter": "python",
   "pygments_lexer": "ipython3",
   "version": "3.5.2"
  }
 },
 "nbformat": 4,
 "nbformat_minor": 0
}