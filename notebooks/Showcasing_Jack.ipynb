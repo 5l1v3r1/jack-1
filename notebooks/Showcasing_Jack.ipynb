{
 "cells": [
  {
   "cell_type": "markdown",
   "metadata": {},
   "source": [
    "# Example Notebook to showcasing how we interact with JTReaders"
   ]
  },
  {
   "cell_type": "code",
   "execution_count": 1,
   "metadata": {
    "collapsed": true
   },
   "outputs": [],
   "source": [
    "# First change dir to JTR parent\n",
    "import os\n",
    "os.chdir('..')"
   ]
  },
  {
   "cell_type": "markdown",
   "metadata": {},
   "source": [
    "### Bookkeeping of all existing readers: `readers.py`"
   ]
  },
  {
   "cell_type": "code",
   "execution_count": 2,
   "metadata": {},
   "outputs": [],
   "source": [
    "import jtr.readers as readers"
   ]
  },
  {
   "cell_type": "code",
   "execution_count": 3,
   "metadata": {},
   "outputs": [
    {
     "name": "stdout",
     "output_type": "stream",
     "text": [
      "Existing models:\n",
      "example_reader, modelf_reader, distmult_reader, complex_reader, transe_reader, fastqa_reader, cbow_xqa_reader, cbilstm_snli_reader, dam_snli_reader, esim_snli_reader, cbilstm_snli_streaming_reader\n"
     ]
    }
   ],
   "source": [
    "print(\"Existing models:\\n%s\" % \", \".join(readers.readers.keys()))"
   ]
  },
  {
   "cell_type": "markdown",
   "metadata": {},
   "source": [
    "### Create a reader"
   ]
  },
  {
   "cell_type": "code",
   "execution_count": 4,
   "metadata": {},
   "outputs": [
    {
     "name": "stdout",
     "output_type": "stream",
     "text": [
      "glove.6B.50d.txt already exists! Doing nothing!\n"
     ]
    }
   ],
   "source": [
    "%%script bash\n",
    "bash data/GloVe/download.sh"
   ]
  },
  {
   "cell_type": "code",
   "execution_count": 5,
   "metadata": {
    "collapsed": true
   },
   "outputs": [],
   "source": [
    "from jtr.io.embeddings.embeddings import load_embeddings\n",
    "from jtr.util.vocab import Vocab\n",
    "\n",
    "# we need a vocabulary (with embeddings for our fastqa_reader, but this is not always necessary)\n",
    "embeddings = load_embeddings('data/GloVe/glove.6B.50d.txt', 'glove')\n",
    "vocab = Vocab(emb=embeddings, init_from_embeddings=True)\n",
    "\n",
    "# and a config\n",
    "config = {\"batch_size\": 1, \"repr_dim\": 10, \"repr_dim_input\": embeddings.lookup.shape[1]}"
   ]
  },
  {
   "cell_type": "code",
   "execution_count": 6,
   "metadata": {
    "collapsed": true
   },
   "outputs": [],
   "source": [
    "# create example reader\n",
    "from jtr.core import SharedResources\n",
    "\n",
    "svac = SharedResources(vocab, config)\n",
    "fastqa_reader = readers.readers[\"fastqa_reader\"](svac)"
   ]
  },
  {
   "cell_type": "markdown",
   "metadata": {},
   "source": [
    "### Setting up a reader from training data "
   ]
  },
  {
   "cell_type": "code",
   "execution_count": 7,
   "metadata": {
    "collapsed": true
   },
   "outputs": [],
   "source": [
    "from jtr.data_structures import load_labelled_data\n",
    "train_data = load_labelled_data('data/SQuAD/snippet.jtr.json')\n",
    "# all parameters are initialized after this call\n",
    "fastqa_reader.setup_from_data(train_data)"
   ]
  },
  {
   "cell_type": "markdown",
   "metadata": {},
   "source": [
    "### Saving the reader"
   ]
  },
  {
   "cell_type": "code",
   "execution_count": 8,
   "metadata": {
    "collapsed": true
   },
   "outputs": [],
   "source": [
    "fastqa_reader.store(\"/tmp/fastqa_reader\")"
   ]
  },
  {
   "cell_type": "code",
   "execution_count": 9,
   "metadata": {},
   "outputs": [
    {
     "name": "stdout",
     "output_type": "stream",
     "text": [
      "checkpoint\n",
      "model_module.data-00000-of-00001\n",
      "model_module.index\n",
      "model_module.meta\n",
      "shared_resources\n"
     ]
    }
   ],
   "source": [
    "%%sh\n",
    "ls /tmp/fastqa_reader/"
   ]
  },
  {
   "cell_type": "markdown",
   "metadata": {},
   "source": [
    "### Loading the reader"
   ]
  },
  {
   "cell_type": "code",
   "execution_count": 10,
   "metadata": {},
   "outputs": [
    {
     "name": "stdout",
     "output_type": "stream",
     "text": [
      "INFO:tensorflow:Restoring parameters from /tmp/fastqa_reader/model_module\n"
     ]
    }
   ],
   "source": [
    "# we can simply load a setup reader\n",
    "fastqa_reader.load(\"/tmp/fastqa_reader\")"
   ]
  },
  {
   "cell_type": "code",
   "execution_count": 11,
   "metadata": {},
   "outputs": [
    {
     "name": "stdout",
     "output_type": "stream",
     "text": [
      "INFO:tensorflow:Restoring parameters from /tmp/fastqa_reader/model_module\n"
     ]
    }
   ],
   "source": [
    "# or setup a new reader from file \n",
    "import tensorflow as tf\n",
    "from jtr.util.vocab import Vocab\n",
    "\n",
    "# reset graph -> computation graph is gone\n",
    "tf.reset_default_graph()\n",
    "svac = SharedResources(None, None)\n",
    "fastqa_reader = readers.readers[\"fastqa_reader\"](svac)\n",
    "fastqa_reader.load_and_setup(\"/tmp/fastqa_reader\")"
   ]
  },
  {
   "cell_type": "markdown",
   "metadata": {},
   "source": [
    "### Applying the reader"
   ]
  },
  {
   "cell_type": "code",
   "execution_count": 12,
   "metadata": {
    "collapsed": true
   },
   "outputs": [],
   "source": [
    "from jtr.data_structures import load_labelled_data\n",
    "train_data = load_labelled_data('data/SQuAD/snippet.jtr.json')\n",
    "\n",
    "# take a list of inputs, e.g., from our training data\n",
    "questions = [q for q, a in train_data]"
   ]
  },
  {
   "cell_type": "code",
   "execution_count": 13,
   "metadata": {},
   "outputs": [
    {
     "name": "stdout",
     "output_type": "stream",
     "text": [
      "0.0017765111988410354, simple, modern, (659, 673)\n",
      "0.0016859363531693816, simple, modern, (659, 673)\n",
      "0.001620858209207654, simple, modern, (659, 673)\n",
      "0.0017491448670625687, simple, modern, (659, 673)\n",
      "0.001751892501488328, simple, modern, (659, 673)\n",
      "3.855477916658856e-05, and, (488, 491)\n",
      "3.897287024301477e-05, and, (488, 491)\n",
      "4.0846647607395425e-05, and, (488, 491)\n",
      "3.922362157027237e-05, and, (488, 491)\n",
      "4.22893172071781e-05, and, (488, 491)\n",
      "0.00023499234521295875, center), Holy Cross House, as well as Columba Hall near the Grotto. The university through the Moreau Seminary has ties to theologian, (426, 559)\n",
      "0.00010738338460214436, ,, (104, 105)\n",
      "0.00011009203444700688, , which are in Rome). Its main seminary, Moreau Seminary, is located on the campus across St. Joseph lake from the Main Building. Old College, the oldest building on campus and located near the shore of St. Mary lake, houses undergraduate seminarians. Retired priests, (104, 371)\n",
      "0.00011688958329614252, , which are in Rome). Its main seminary, Moreau Seminary, is located on the campus across St. Joseph lake from the Main Building. Old College, the oldest building on campus and located near the shore of St. Mary lake, houses undergraduate seminarians. Retired priests, (104, 371)\n",
      "0.00011858491780003533, its official headquarters, which are in Rome). Its main seminary, Moreau Seminary, is located on the campus across St. Joseph lake from the Main Building. Old College, the oldest, (79, 257)\n",
      "0.01060154102742672, ., (723, 724)\n",
      "0.00011711875413311645, civil and mechanical engineering were a part of the College of Science since the 1870s. Today the college, housed, (78, 191)\n",
      "0.00011865101987496018, civil and mechanical engineering were a part of the College of Science since the 1870s. Today the college, housed, (78, 191)\n",
      "0.00012289096775930375, civil and mechanical engineering were a part of the College of Science since the 1870s. Today the college, housed, (78, 191)\n",
      "0.010253531858325005, ., (723, 724)\n",
      "0.00011293869465589523, are in the First Year of Studies program. The First Year of Studies program was established in 1962 to guide incoming freshmen in their first year at the school before they have declared a major. Each student is given an academic advisor from the program who helps them to choose classes that give them exposure to any major in which they are interested. The program also includes a Learning Resource Center which provides time management, collaborative learning, and subject tutoring. This program has been recognized, (113, 631)\n",
      "0.00030092705856077373, includes a Learning Resource Center which provides time management, collaborative learning,, (485, 576)\n",
      "0.00043755944352597, , collaborative learning, and subject tutoring. This program has been recognized, (551, 631)\n",
      "0.0004352193500380963, , collaborative learning, and subject tutoring. This program has been recognized, (551, 631)\n"
     ]
    }
   ],
   "source": [
    "for a in fastqa_reader(questions):\n",
    "    print(\"{}, {}, {}\".format(a.score, a.text, a.span))"
   ]
  }
 ],
 "metadata": {
  "kernelspec": {
   "display_name": "Python 3",
   "language": "python",
   "name": "python3"
  },
  "language_info": {
   "codemirror_mode": {
    "name": "ipython",
    "version": 3
   },
   "file_extension": ".py",
   "mimetype": "text/x-python",
   "name": "python",
   "nbconvert_exporter": "python",
   "pygments_lexer": "ipython3",
   "version": "3.6.1"
  }
 },
 "nbformat": 4,
 "nbformat_minor": 1
}
