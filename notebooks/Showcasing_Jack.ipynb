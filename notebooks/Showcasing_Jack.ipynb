{
 "cells": [
  {
   "cell_type": "markdown",
   "metadata": {},
   "source": [
    "# Example Notebook to showcasing how we interact with JTReaders"
   ]
  },
  {
   "cell_type": "code",
   "execution_count": 1,
   "metadata": {
    "collapsed": true
   },
   "outputs": [],
   "source": [
    "# First change dir to JTR parent\n",
    "import os\n",
    "os.chdir('..')"
   ]
  },
  {
   "cell_type": "markdown",
   "metadata": {},
   "source": [
    "### Bookkeeping of all existing readers: `readers.py`"
   ]
  },
  {
   "cell_type": "code",
   "execution_count": 2,
   "metadata": {
    "collapsed": true
   },
   "outputs": [],
   "source": [
    "import jack.readers as readers"
   ]
  },
  {
   "cell_type": "code",
   "execution_count": 3,
   "metadata": {
    "collapsed": false
   },
   "outputs": [
    {
     "name": "stdout",
     "output_type": "stream",
     "text": [
      "Existing models:\n",
      "complex_reader, distmult_reader, esim_snli_reader, bidaf_reader, cbilstm_snli_reader, modelf_reader, dam_snli_reader, transe_reader, fastqa_reader\n"
     ]
    }
   ],
   "source": [
    "print(\"Existing models:\\n%s\" % \", \".join(readers.readers.keys()))"
   ]
  },
  {
   "cell_type": "markdown",
   "metadata": {},
   "source": [
    "### Create a reader"
   ]
  },
  {
   "cell_type": "code",
   "execution_count": 4,
   "metadata": {
    "collapsed": false
   },
   "outputs": [
    {
     "name": "stdout",
     "output_type": "stream",
     "text": [
      "glove.6B.50d.txt already exists! Doing nothing!\n"
     ]
    }
   ],
   "source": [
    "%%script bash\n",
    "bash data/GloVe/download_small.sh"
   ]
  },
  {
   "cell_type": "code",
   "execution_count": 5,
   "metadata": {
    "collapsed": true
   },
   "outputs": [],
   "source": [
    "from jack.io.embeddings.embeddings import load_embeddings\n",
    "from jack.util.vocab import Vocab\n",
    "\n",
    "# we need a vocabulary (with embeddings for our fastqa_reader, but this is not always necessary)\n",
    "embeddings = load_embeddings('data/GloVe/glove.6B.50d.txt', 'glove')\n",
    "vocab = Vocab(emb=embeddings, init_from_embeddings=True)\n",
    "\n",
    "# and a config\n",
    "config = {\"repr_dim\": 10, \"repr_dim_input\": embeddings.lookup.shape[1], \"model\": \"fastqa_reader\", \"max_span_size\": 10}"
   ]
  },
  {
   "cell_type": "code",
   "execution_count": 6,
   "metadata": {
    "collapsed": true
   },
   "outputs": [],
   "source": [
    "# create example reader\n",
    "from jack.core import SharedResources\n",
    "\n",
    "svac = SharedResources(vocab, config)\n",
    "fastqa_reader = readers.readers[\"fastqa_reader\"](svac)"
   ]
  },
  {
   "cell_type": "markdown",
   "metadata": {},
   "source": [
    "### Setting up a reader from training data "
   ]
  },
  {
   "cell_type": "code",
   "execution_count": 7,
   "metadata": {
    "collapsed": true
   },
   "outputs": [],
   "source": [
    "from jack.io.load import load_jack\n",
    "train_data = load_jack('data/SQuAD/snippet.jtr.json')\n",
    "# all parameters are initialized after this call\n",
    "fastqa_reader.setup_from_data(train_data)"
   ]
  },
  {
   "cell_type": "markdown",
   "metadata": {},
   "source": [
    "### Saving the reader"
   ]
  },
  {
   "cell_type": "code",
   "execution_count": 8,
   "metadata": {
    "collapsed": true
   },
   "outputs": [],
   "source": [
    "fastqa_reader.store(\"/tmp/fastqa_reader\")"
   ]
  },
  {
   "cell_type": "code",
   "execution_count": 9,
   "metadata": {
    "collapsed": false
   },
   "outputs": [
    {
     "name": "stdout",
     "output_type": "stream",
     "text": [
      "checkpoint\n",
      "model_module.data-00000-of-00001\n",
      "model_module.index\n",
      "model_module.meta\n",
      "shared_resources\n",
      "shared_resources_vocab\n"
     ]
    }
   ],
   "source": [
    "%%sh\n",
    "ls /tmp/fastqa_reader/"
   ]
  },
  {
   "cell_type": "markdown",
   "metadata": {},
   "source": [
    "### Loading the reader"
   ]
  },
  {
   "cell_type": "code",
   "execution_count": 10,
   "metadata": {
    "collapsed": false
   },
   "outputs": [
    {
     "name": "stdout",
     "output_type": "stream",
     "text": [
      "INFO:tensorflow:Restoring parameters from /tmp/fastqa_reader/model_module\n"
     ]
    }
   ],
   "source": [
    "# we can simply load a setup reader\n",
    "fastqa_reader.load(\"/tmp/fastqa_reader\")"
   ]
  },
  {
   "cell_type": "code",
   "execution_count": 11,
   "metadata": {
    "collapsed": false
   },
   "outputs": [
    {
     "name": "stdout",
     "output_type": "stream",
     "text": [
      "INFO:tensorflow:Restoring parameters from /tmp/fastqa_reader/model_module\n"
     ]
    }
   ],
   "source": [
    "import tensorflow as tf\n",
    "# reset graph -> computation graph is gone\n",
    "tf.reset_default_graph()\n",
    "\n",
    "# or setup a new reader from file \n",
    "svac = SharedResources()\n",
    "fastqa_reader = readers.readers[\"fastqa_reader\"](svac)\n",
    "fastqa_reader.load_and_setup(\"/tmp/fastqa_reader\")"
   ]
  },
  {
   "cell_type": "code",
   "execution_count": 12,
   "metadata": {
    "collapsed": false
   },
   "outputs": [
    {
     "name": "stdout",
     "output_type": "stream",
     "text": [
      "INFO:tensorflow:Restoring parameters from /tmp/fastqa_reader/model_module\n"
     ]
    }
   ],
   "source": [
    "# reset graph -> computation graph is gone\n",
    "tf.reset_default_graph()\n",
    "\n",
    "# or even shorter, use the utility function for creating and loading a reader from file\n",
    "fastqa_reader = readers.reader_from_file(\"/tmp/fastqa_reader\")"
   ]
  },
  {
   "cell_type": "markdown",
   "metadata": {},
   "source": [
    "### Applying the reader"
   ]
  },
  {
   "cell_type": "code",
   "execution_count": 13,
   "metadata": {
    "collapsed": true
   },
   "outputs": [],
   "source": [
    "from jack.io.load import load_jack\n",
    "data = load_jack('data/SQuAD/snippet.jtr.json')\n",
    "\n",
    "# take a list of inputs, e.g., from our training data\n",
    "questions = [q for q, a in data]"
   ]
  },
  {
   "cell_type": "code",
   "execution_count": 14,
   "metadata": {
    "collapsed": false
   },
   "outputs": [
    {
     "name": "stdout",
     "output_type": "stream",
     "text": [
      "Question: To whom did the Virgin Mary allegedly appear in 1858 in Lourdes France?\n",
      "Answer:   s gold dome is a golden statue of the \t 0.242\n",
      "\n",
      "Question: What is in front of the Notre Dame Main Building?\n",
      "Answer:   s gold dome is a golden statue of the \t 0.110\n",
      "\n",
      "Question: The Basilica of the Sacred heart at Notre Dame is beside to which structure?\n",
      "Answer:   s gold dome is a golden statue of the \t 0.225\n",
      "\n",
      "Question: What is the Grotto at Notre Dame?\n",
      "Answer:   s gold dome is a golden statue of the \t 0.280\n",
      "\n",
      "Question: What sits on top of the Main Building at Notre Dame?\n",
      "Answer:   s gold dome is a golden statue of the \t 0.187\n",
      "\n",
      "Question: When did the Scholastic Magazine of Notre dame begin publishing?\n",
      "Answer:   journal in September 1876, the \t 0.080\n",
      "\n",
      "Question: How often is Notre Dame's the Juggler published?\n",
      "Answer:   journal in September 1876, the \t -0.032\n",
      "\n",
      "Question: What is the daily student paper at Notre Dame called?\n",
      "Answer:   journal in September 1876, the \t -0.022\n",
      "\n",
      "Question: How many student news papers are found at Notre Dame?\n",
      "Answer:   issued twice monthly and claims to be the oldest continuous \t -0.039\n",
      "\n",
      "Question: In what year did the student paper Common Sense begin publication at Notre Dame?\n",
      "Answer:   journal in September 1876, the \t 0.022\n",
      "\n",
      "Question: Where is the headquarters of the Congregation of the Holy Cross?\n",
      "Answer:   theologian Frederick \t 0.169\n",
      "\n",
      "Question: What is the primary seminary of the Congregation of the Holy Cross?\n",
      "Answer:   theologian \t 0.168\n",
      "\n",
      "Question: What is the oldest structure at Notre Dame?\n",
      "Answer:   theologian \t 0.161\n",
      "\n",
      "Question: What individuals live at Fatima House at Notre Dame?\n",
      "Answer:   theologian Frederick Buechner. While not Catholic \t 0.269\n",
      "\n",
      "Question: Which prize did Frederick Buechner create?\n",
      "Answer:   theologian Frederick \t 0.336\n",
      "\n",
      "Question: How many BS level degrees are offered in the College of Engineering at Notre Dame?\n",
      "Answer:   ( \t 0.068\n",
      "\n",
      "Question: In what year was the College of Engineering at Notre Dame formed?\n",
      "Answer:   (MBA \t 0.065\n",
      "\n",
      "Question: Before the creation of the College of Engineering similar studies were carried out at which Notre Dame college?\n",
      "Answer:   ( \t -0.004\n",
      "\n",
      "Question: How many departments are within the Stinson-Remick Hall of Engineering?\n",
      "Answer:   ( \t 0.004\n",
      "\n",
      "Question: The College of Science began to offer civil engineering courses beginning at what time at Notre Dame?\n",
      "Answer:   ) \t 0.185\n",
      "\n",
      "Question: What entity provides help with the management of time for new students at Notre Dame?\n",
      "Answer:   incoming freshmen in their first year at the school \t 0.068\n",
      "\n",
      "Question: How many colleges for undergraduates are at Notre Dame?\n",
      "Answer:   incoming freshmen in their first year at the school \t 0.077\n",
      "\n",
      "Question: What was created at Notre Dame in 1962 to assist first year students?\n",
      "Answer:   incoming freshmen in their first \t 0.101\n",
      "\n",
      "Question: Which organization declared the First Year of Studies program at Notre Dame \"outstanding?\"\n",
      "Answer:   guide \t 0.041\n",
      "\n"
     ]
    }
   ],
   "source": [
    "# Of course the output is not correct because the model was not trained at all\n",
    "for q, a in zip(questions, fastqa_reader(questions)):\n",
    "    print(\"Question: \" + q.question)\n",
    "    print(\"Answer:   %s \\t %.3f\" % (a[0].text, a[0].score))\n",
    "    print()"
   ]
  },
  {
   "cell_type": "markdown",
   "metadata": {
    "collapsed": true
   },
   "source": [
    "# Training"
   ]
  },
  {
   "cell_type": "code",
   "execution_count": 16,
   "metadata": {
    "collapsed": false
   },
   "outputs": [
    {
     "name": "stdout",
     "output_type": "stream",
     "text": [
      "INFO:jack.core.reader:Preparing training data...\n"
     ]
    },
    {
     "name": "stderr",
     "output_type": "stream",
     "text": [
      "/usr/lib/python3.5/site-packages/tensorflow/python/ops/gradients_impl.py:96: UserWarning: Converting sparse IndexedSlices to a dense Tensor of unknown shape. This may consume a large amount of memory.\n",
      "  \"Converting sparse IndexedSlices to a dense Tensor of unknown shape. \"\n"
     ]
    },
    {
     "name": "stdout",
     "output_type": "stream",
     "text": [
      "INFO:jack.core.reader:Number of parameters: 6341\n",
      "INFO:jack.core.reader:Start training...\n",
      "INFO:jack.util.hooks:Epoch 1\tIter 1\ttrain loss 9.99771499633789\n",
      "INFO:jack.util.hooks:Epoch 2\tIter 2\ttrain loss 9.868426322937012\n",
      "INFO:jack.util.hooks:Epoch 3\tIter 3\ttrain loss 9.303072929382324\n",
      "INFO:jack.util.hooks:Epoch 4\tIter 4\ttrain loss 7.600021839141846\n",
      "INFO:jack.util.hooks:Epoch 5\tIter 5\ttrain loss 6.575923919677734\n",
      "INFO:jack.util.hooks:Epoch 6\tIter 6\ttrain loss 5.771175384521484\n",
      "INFO:jack.util.hooks:Epoch 7\tIter 7\ttrain loss 5.4432830810546875\n",
      "INFO:jack.util.hooks:Epoch 8\tIter 8\ttrain loss 4.33134126663208\n",
      "INFO:jack.util.hooks:Epoch 9\tIter 9\ttrain loss 4.106665134429932\n",
      "INFO:jack.util.hooks:Epoch 10\tIter 10\ttrain loss 3.571859121322632\n",
      "INFO:jack.util.hooks:Epoch 11\tIter 11\ttrain loss 3.0804221630096436\n",
      "INFO:jack.util.hooks:Epoch 12\tIter 12\ttrain loss 2.6599819660186768\n",
      "INFO:jack.util.hooks:Epoch 13\tIter 13\ttrain loss 2.335930109024048\n",
      "INFO:jack.util.hooks:Epoch 14\tIter 14\ttrain loss 2.3210813999176025\n",
      "INFO:jack.util.hooks:Epoch 15\tIter 15\ttrain loss 1.3624616861343384\n",
      "INFO:jack.util.hooks:Epoch 16\tIter 16\ttrain loss 1.2299071550369263\n",
      "INFO:jack.util.hooks:Epoch 17\tIter 17\ttrain loss 1.0763887166976929\n",
      "INFO:jack.util.hooks:Epoch 18\tIter 18\ttrain loss 0.781766414642334\n",
      "INFO:jack.util.hooks:Epoch 19\tIter 19\ttrain loss 0.5938989520072937\n",
      "INFO:jack.util.hooks:Epoch 20\tIter 20\ttrain loss 0.3972814083099365\n"
     ]
    }
   ],
   "source": [
    "# for training we use the bin/jack-train.py script, however, programatically we could quickly train a model like this\n",
    "from jack.util.hooks import LossHook, ExamplesPerSecHook\n",
    "import tensorflow as tf\n",
    "\n",
    "# setup reader ini training mode\n",
    "tf.reset_default_graph()\n",
    "fastqa_reader = readers.readers[\"fastqa_reader\"](svac)\n",
    "fastqa_reader.setup_from_data(train_data, is_training=True)\n",
    "\n",
    "batch_size=len(train_data)\n",
    "hooks = [LossHook(fastqa_reader, iter_interval=1), \n",
    "         ExamplesPerSecHook(fastqa_reader, batch_size, iter_interval=1)]\n",
    "optimizer = tf.train.AdamOptimizer(0.1)\n",
    "fastqa_reader.train(optimizer, batch_size=batch_size, hooks=hooks, max_epochs=20, training_set=train_data)"
   ]
  },
  {
   "cell_type": "code",
   "execution_count": 38,
   "metadata": {
    "collapsed": false
   },
   "outputs": [
    {
     "name": "stdout",
     "output_type": "stream",
     "text": [
      "Question: To whom did the Virgin Mary allegedly appear in 1858 in Lourdes France?\n",
      "Answer:   Saint Bernadette Soubirous \t 15.086\n",
      "\n",
      "Question: What is in front of the Notre Dame Main Building?\n",
      "Answer:   a copper statue of Christ \t 5.544\n",
      "\n",
      "Question: The Basilica of the Sacred heart at Notre Dame is beside to which structure?\n",
      "Answer:   the Main Building \t 2.587\n",
      "\n",
      "Question: What is the Grotto at Notre Dame?\n",
      "Answer:   a Marian place of prayer and reflection \t 7.989\n",
      "\n",
      "Question: What sits on top of the Main Building at Notre Dame?\n",
      "Answer:   a golden statue of the Virgin Mary \t 3.314\n",
      "\n",
      "Question: When did the Scholastic Magazine of Notre dame begin publishing?\n",
      "Answer:   September 1876 \t -8.032\n",
      "\n",
      "Question: How often is Notre Dame's the Juggler published?\n",
      "Answer:   twice \t 3.903\n",
      "\n",
      "Question: What is the daily student paper at Notre Dame called?\n",
      "Answer:   The Observer \t -6.612\n",
      "\n",
      "Question: How many student news papers are found at Notre Dame?\n",
      "Answer:   three \t -2.750\n",
      "\n",
      "Question: In what year did the student paper Common Sense begin publication at Notre Dame?\n",
      "Answer:   1987 \t -999.604\n",
      "\n",
      "Question: Where is the headquarters of the Congregation of the Holy Cross?\n",
      "Answer:   Rome \t -8.019\n",
      "\n",
      "Question: What is the primary seminary of the Congregation of the Holy Cross?\n",
      "Answer:   Moreau Seminary \t -12.484\n",
      "\n",
      "Question: What is the oldest structure at Notre Dame?\n",
      "Answer:   Old College \t -9.609\n",
      "\n",
      "Question: What individuals live at Fatima House at Notre Dame?\n",
      "Answer:   Retired priests and brothers \t 2.207\n",
      "\n",
      "Question: Which prize did Frederick Buechner create?\n",
      "Answer:   Buechner Prize for Preaching \t -13.873\n",
      "\n",
      "Question: How many BS level degrees are offered in the College of Engineering at Notre Dame?\n",
      "Answer:   eight \t -8.861\n",
      "\n",
      "Question: In what year was the College of Engineering at Notre Dame formed?\n",
      "Answer:   1920 \t -14.026\n",
      "\n",
      "Question: Before the creation of the College of Engineering similar studies were carried out at which Notre Dame college?\n",
      "Answer:   the College of Science \t -8.019\n",
      "\n",
      "Question: How many departments are within the Stinson-Remick Hall of Engineering?\n",
      "Answer:   five \t -8.032\n",
      "\n",
      "Question: The College of Science began to offer civil engineering courses beginning at what time at Notre Dame?\n",
      "Answer:   the 1870s \t -10.773\n",
      "\n",
      "Question: What entity provides help with the management of time for new students at Notre Dame?\n",
      "Answer:   Learning Resource Center \t -9.219\n",
      "\n",
      "Question: How many colleges for undergraduates are at Notre Dame?\n",
      "Answer:   five \t -6.094\n",
      "\n",
      "Question: What was created at Notre Dame in 1962 to assist first year students?\n",
      "Answer:   The First Year of Studies program \t -6.857\n",
      "\n",
      "Question: Which organization declared the First Year of Studies program at Notre Dame \"outstanding?\"\n",
      "Answer:   U.S. News & World Report \t -10.446\n",
      "\n"
     ]
    }
   ],
   "source": [
    "# After training the output should look better\n",
    "for q, a in zip(questions, fastqa_reader(questions)):\n",
    "    print(\"Question: \" + q.question)\n",
    "    print(\"Answer:   %s \\t %.3f\" % (a[0].text, a[0].score))\n",
    "    print()"
   ]
  },
  {
   "cell_type": "code",
   "execution_count": 31,
   "metadata": {
    "collapsed": true
   },
   "outputs": [],
   "source": [
    "\n",
    "from collections import defaultdict\n",
    "from typing import NamedTuple\n",
    "\n",
    "import progressbar\n",
    "\n",
    "from jack.core import *\n",
    "from jack.readers.extractive_qa.shared import XQAPorts\n",
    "from jack.tfutil import sequence_encoder\n",
    "from jack.tfutil.xqa import xqa_crossentropy_loss\n",
    "from jack.util import preprocessing\n",
    "from jack.util.map import numpify\n",
    "\n",
    "def get_answer_and_span(question, doc_idx, start, end, token_offsets, selected_support):\n",
    "    doc_idx = selected_support[doc_idx]\n",
    "    char_start = token_offsets[start]\n",
    "    if end < len(token_offsets) - 1:\n",
    "        char_end = token_offsets[end + 1]\n",
    "    else:\n",
    "        char_end = len(question.support[doc_idx])\n",
    "    answer = question.support[doc_idx][char_start: char_end]\n",
    "    answer = answer.rstrip()\n",
    "    char_end = char_start + len(answer)\n",
    "    return answer, doc_idx, (char_start, char_end)\n",
    "\n",
    "class  MyXQAOutputModule(OutputModule):\n",
    "    def __init__(self, shared_resources):\n",
    "        self.beam_size = shared_resources.config.get(\"beam_size\", 1)\n",
    "\n",
    "    def __call__(self, questions, span_prediction,\n",
    "                 token_offsets, selected_support, support2question,\n",
    "                 start_scores, end_scores):\n",
    "        all_answers = []\n",
    "        for k, q in enumerate(questions):\n",
    "            answers = []\n",
    "            q_token_offsets = [to for q_id, to in zip(support2question, token_offsets) if q_id == k]\n",
    "            for j in range(self.beam_size):\n",
    "                i = k * self.beam_size + j\n",
    "                doc_idx, start, end = span_prediction[i]\n",
    "                score = start_scores[doc_idx, start]\n",
    "                answer, doc_idx, span = get_answer_and_span(\n",
    "                    q, doc_idx, start, end, q_token_offsets[doc_idx],\n",
    "                    [i for q_id, i in zip(support2question, selected_support) if q_id == k])\n",
    "                answers.append(Answer(answer, span=span, doc_idx=doc_idx, score=score))\n",
    "            all_answers.append(answers)\n",
    "\n",
    "        return all_answers\n",
    "\n",
    "    @property\n",
    "    def input_ports(self) -> List[TensorPort]:\n",
    "        return [Ports.Prediction.answer_span, XQAPorts.token_offsets,\n",
    "                XQAPorts.selected_support, XQAPorts.support2question,\n",
    "                Ports.Prediction.start_scores, Ports.Prediction.end_scores]"
   ]
  },
  {
   "cell_type": "code",
   "execution_count": 32,
   "metadata": {
    "collapsed": true
   },
   "outputs": [],
   "source": [
    "fastqa_reader._output_module = MyXQAOutputModule(fastqa_reader.shared_resources)"
   ]
  },
  {
   "cell_type": "code",
   "execution_count": null,
   "metadata": {
    "collapsed": true
   },
   "outputs": [],
   "source": []
  }
 ],
 "metadata": {
  "hide_input": false,
  "kernelspec": {
   "display_name": "Python 3",
   "language": "python",
   "name": "python3"
  },
  "language_info": {
   "codemirror_mode": {
    "name": "ipython",
    "version": 3
   },
   "file_extension": ".py",
   "mimetype": "text/x-python",
   "name": "python",
   "nbconvert_exporter": "python",
   "pygments_lexer": "ipython3",
   "version": "3.5.3"
  }
 },
 "nbformat": 4,
 "nbformat_minor": 1
}
