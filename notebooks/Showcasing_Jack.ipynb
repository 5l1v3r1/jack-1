{
 "cells": [
  {
   "cell_type": "markdown",
   "metadata": {},
   "source": [
    "# Example Notebook to showcasing how we interact with JTReaders"
   ]
  },
  {
   "cell_type": "code",
   "execution_count": 1,
   "metadata": {
    "collapsed": true
   },
   "outputs": [],
   "source": [
    "# First change dir to JTR parent\n",
    "import os\n",
    "os.chdir('..')"
   ]
  },
  {
   "cell_type": "markdown",
   "metadata": {},
   "source": [
    "### Bookkeeping of all existing readers: `readers.py`"
   ]
  },
  {
   "cell_type": "code",
   "execution_count": 2,
   "metadata": {
    "collapsed": true
   },
   "outputs": [],
   "source": [
    "import jack.readers as readers"
   ]
  },
  {
   "cell_type": "code",
   "execution_count": 3,
   "metadata": {},
   "outputs": [
    {
     "name": "stdout",
     "output_type": "stream",
     "text": [
      "Existing models:\n",
      "complex_reader, fastqa_reader, dam_snli_reader, distmult_reader, cbilstm_snli_reader, transe_reader, bidaf_reader, modelf_reader, esim_snli_reader\n"
     ]
    }
   ],
   "source": [
    "print(\"Existing models:\\n%s\" % \", \".join(readers.readers.keys()))"
   ]
  },
  {
   "cell_type": "markdown",
   "metadata": {},
   "source": [
    "### Create a reader"
   ]
  },
  {
   "cell_type": "code",
   "execution_count": 4,
   "metadata": {},
   "outputs": [
    {
     "name": "stdout",
     "output_type": "stream",
     "text": [
      "glove.6B.50d.txt already exists! Doing nothing!\n"
     ]
    }
   ],
   "source": [
    "%%script bash\n",
    "bash data/GloVe/download_small.sh"
   ]
  },
  {
   "cell_type": "code",
   "execution_count": 5,
   "metadata": {
    "collapsed": true
   },
   "outputs": [],
   "source": [
    "from jack.io.embeddings.embeddings import load_embeddings\n",
    "from jack.util.vocab import Vocab\n",
    "\n",
    "# we need a vocabulary (with embeddings for our fastqa_reader, but this is not always necessary)\n",
    "embeddings = load_embeddings('data/GloVe/glove.6B.50d.txt', 'glove')\n",
    "vocab = Vocab(emb=embeddings, init_from_embeddings=True)\n",
    "\n",
    "# and a config\n",
    "config = {\"repr_dim\": 10, \"repr_dim_input\": embeddings.lookup.shape[1], \"model\": \"fastqa_reader\", \"max_span_size\": 10}"
   ]
  },
  {
   "cell_type": "code",
   "execution_count": 6,
   "metadata": {
    "collapsed": true
   },
   "outputs": [],
   "source": [
    "# create example reader\n",
    "from jack.core import SharedResources\n",
    "\n",
    "svac = SharedResources(vocab, config)\n",
    "fastqa_reader = readers.readers[\"fastqa_reader\"](svac)"
   ]
  },
  {
   "cell_type": "markdown",
   "metadata": {},
   "source": [
    "### Setting up a reader from training data "
   ]
  },
  {
   "cell_type": "code",
   "execution_count": 7,
   "metadata": {
    "collapsed": true
   },
   "outputs": [],
   "source": [
    "from jack.io.load import load_jack\n",
    "train_data = load_jack('data/SQuAD/snippet.jtr.json')\n",
    "# all parameters are initialized after this call\n",
    "fastqa_reader.setup_from_data(train_data)"
   ]
  },
  {
   "cell_type": "markdown",
   "metadata": {},
   "source": [
    "### Saving the reader"
   ]
  },
  {
   "cell_type": "code",
   "execution_count": 8,
   "metadata": {
    "collapsed": true
   },
   "outputs": [],
   "source": [
    "fastqa_reader.store(\"/tmp/fastqa_reader\")"
   ]
  },
  {
   "cell_type": "code",
   "execution_count": 9,
   "metadata": {},
   "outputs": [
    {
     "name": "stdout",
     "output_type": "stream",
     "text": [
      "checkpoint\n",
      "model_module.data-00000-of-00001\n",
      "model_module.index\n",
      "model_module.meta\n",
      "shared_resources\n",
      "shared_resources_vocab\n"
     ]
    }
   ],
   "source": [
    "%%sh\n",
    "ls /tmp/fastqa_reader/"
   ]
  },
  {
   "cell_type": "markdown",
   "metadata": {},
   "source": [
    "### Loading the reader"
   ]
  },
  {
   "cell_type": "code",
   "execution_count": 10,
   "metadata": {},
   "outputs": [
    {
     "name": "stdout",
     "output_type": "stream",
     "text": [
      "INFO:tensorflow:Restoring parameters from /tmp/fastqa_reader/model_module\n"
     ]
    }
   ],
   "source": [
    "# we can simply load a setup reader\n",
    "fastqa_reader.load(\"/tmp/fastqa_reader\")"
   ]
  },
  {
   "cell_type": "code",
   "execution_count": 11,
   "metadata": {},
   "outputs": [
    {
     "name": "stdout",
     "output_type": "stream",
     "text": [
      "INFO:tensorflow:Restoring parameters from /tmp/fastqa_reader/model_module\n"
     ]
    }
   ],
   "source": [
    "import tensorflow as tf\n",
    "# reset graph -> computation graph is gone\n",
    "tf.reset_default_graph()\n",
    "\n",
    "# or setup a new reader from file \n",
    "svac = SharedResources()\n",
    "fastqa_reader = readers.readers[\"fastqa_reader\"](svac)\n",
    "fastqa_reader.load_and_setup(\"/tmp/fastqa_reader\")"
   ]
  },
  {
   "cell_type": "code",
   "execution_count": 12,
   "metadata": {},
   "outputs": [
    {
     "name": "stdout",
     "output_type": "stream",
     "text": [
      "INFO:tensorflow:Restoring parameters from /tmp/fastqa_reader/model_module\n"
     ]
    }
   ],
   "source": [
    "# reset graph -> computation graph is gone\n",
    "tf.reset_default_graph()\n",
    "\n",
    "# or even shorter, use the utility function for creating and loading a reader from file\n",
    "fastqa_reader = readers.reader_from_file(\"/tmp/fastqa_reader\")"
   ]
  },
  {
   "cell_type": "markdown",
   "metadata": {},
   "source": [
    "### Applying the reader"
   ]
  },
  {
   "cell_type": "code",
   "execution_count": 13,
   "metadata": {
    "collapsed": true
   },
   "outputs": [],
   "source": [
    "from jack.io.load import load_jack\n",
    "data = load_jack('data/SQuAD/snippet.jtr.json')\n",
    "\n",
    "# take a list of inputs, e.g., from our training data\n",
    "questions = [q for q, a in data]"
   ]
  },
  {
   "cell_type": "code",
   "execution_count": 14,
   "metadata": {},
   "outputs": [
    {
     "name": "stdout",
     "output_type": "stream",
     "text": [
      "Question: To whom did the Virgin Mary allegedly appear in 1858 in Lourdes France?\n",
      "Answer:   's gold dome is a golden \t 0.554\n",
      "\n",
      "Question: What is in front of the Notre Dame Main Building?\n",
      "Answer:   's gold dome is a golden \t 0.554\n",
      "\n",
      "Question: The Basilica of the Sacred heart at Notre Dame is beside to which structure?\n",
      "Answer:   ' \t 0.571\n",
      "\n",
      "Question: What is the Grotto at Notre Dame?\n",
      "Answer:   reflection \t 0.489\n",
      "\n",
      "Question: What sits on top of the Main Building at Notre Dame?\n",
      "Answer:   's gold dome is a golden \t 0.599\n",
      "\n",
      "Question: When did the Scholastic Magazine of Notre dame begin publishing?\n",
      "Answer:   ' \t 0.416\n",
      "\n",
      "Question: How often is Notre Dame's the Juggler published?\n",
      "Answer:   faculty advisor or any editorial \t 0.440\n",
      "\n",
      "Question: What is the daily student paper at Notre Dame called?\n",
      "Answer:   artwork. The Dome yearbook is published \t 0.533\n",
      "\n",
      "Question: How many student news papers are found at Notre Dame?\n",
      "Answer:   's College. \t 0.503\n",
      "\n",
      "Question: In what year did the student paper Common Sense begin publication at Notre Dame?\n",
      "Answer:   ' \t 0.475\n",
      "\n",
      "Question: Where is the headquarters of the Congregation of the Holy Cross?\n",
      "Answer:   praised writers \t 0.482\n",
      "\n",
      "Question: What is the primary seminary of the Congregation of the Holy Cross?\n",
      "Answer:   praised writers \t 0.522\n",
      "\n",
      "Question: What is the oldest structure at Notre Dame?\n",
      "Answer:   praised writers \t 0.509\n",
      "\n",
      "Question: What individuals live at Fatima House at Notre Dame?\n",
      "Answer:   major seat of the Congregation of Holy Cross (albeit \t 0.358\n",
      "\n",
      "Question: Which prize did Frederick Buechner create?\n",
      "Answer:   major seat of the Congregation of Holy Cross (albeit \t 0.390\n",
      "\n",
      "Question: How many BS level degrees are offered in the College of Engineering at Notre Dame?\n",
      "Answer:   ) \t 0.587\n",
      "\n",
      "Question: In what year was the College of Engineering at Notre Dame formed?\n",
      "Answer:   mechanical \t 0.543\n",
      "\n",
      "Question: Before the creation of the College of Engineering similar studies were carried out at which Notre Dame college?\n",
      "Answer:   ) \t 0.595\n",
      "\n",
      "Question: How many departments are within the Stinson-Remick Hall of Engineering?\n",
      "Answer:   ) degrees \t 0.529\n",
      "\n",
      "Question: The College of Science began to offer civil engineering courses beginning at what time at Notre Dame?\n",
      "Answer:   mechanical \t 0.645\n",
      "\n",
      "Question: What entity provides help with the management of time for new students at Notre Dame?\n",
      "Answer:   as \t 0.540\n",
      "\n",
      "Question: How many colleges for undergraduates are at Notre Dame?\n",
      "Answer:   guide incoming freshmen in \t 0.444\n",
      "\n",
      "Question: What was created at Notre Dame in 1962 to assist first year students?\n",
      "Answer:   outstanding \t 0.619\n",
      "\n",
      "Question: Which organization declared the First Year of Studies program at Notre Dame \"outstanding?\"\n",
      "Answer:   Each student is given \t 0.497\n",
      "\n"
     ]
    }
   ],
   "source": [
    "# Of course the output is not correct because the model was not trained at all\n",
    "for q, a in zip(questions, fastqa_reader(questions)):\n",
    "    print(\"Question: \" + q.question)\n",
    "    print(\"Answer:   %s \\t %.3f\" % (a[0].text, a[0].score))\n",
    "    print()"
   ]
  },
  {
   "cell_type": "markdown",
   "metadata": {
    "collapsed": true
   },
   "source": [
    "# Training"
   ]
  },
  {
   "cell_type": "code",
   "execution_count": 15,
   "metadata": {},
   "outputs": [
    {
     "name": "stderr",
     "output_type": "stream",
     "text": [
      "/usr/lib/python3.5/site-packages/tensorflow/python/ops/gradients_impl.py:96: UserWarning: Converting sparse IndexedSlices to a dense Tensor of unknown shape. This may consume a large amount of memory.\n",
      "  \"Converting sparse IndexedSlices to a dense Tensor of unknown shape. \"\n"
     ]
    },
    {
     "name": "stdout",
     "output_type": "stream",
     "text": [
      "INFO:jack.core.reader:Number of parameters: 6341\n",
      "INFO:jack.core.reader:Start training...\n",
      "INFO:jack.util.hooks:Epoch 1\tIter 1\ttrain loss 10.044841766357422\n",
      "INFO:jack.util.hooks:Epoch 2\tIter 2\ttrain loss 9.546087265014648\n",
      "INFO:jack.util.hooks:Epoch 3\tIter 3\ttrain loss 8.032719612121582\n",
      "INFO:jack.util.hooks:Epoch 4\tIter 4\ttrain loss 7.163144588470459\n",
      "INFO:jack.util.hooks:Epoch 5\tIter 5\ttrain loss 7.233156681060791\n",
      "INFO:jack.util.hooks:Epoch 6\tIter 6\ttrain loss 6.6085524559021\n",
      "INFO:jack.util.hooks:Epoch 7\tIter 7\ttrain loss 5.957317352294922\n",
      "INFO:jack.util.hooks:Epoch 8\tIter 8\ttrain loss 5.243900775909424\n",
      "INFO:jack.util.hooks:Epoch 9\tIter 9\ttrain loss 4.88168478012085\n",
      "INFO:jack.util.hooks:Epoch 10\tIter 10\ttrain loss 4.474356651306152\n",
      "INFO:jack.util.hooks:Epoch 11\tIter 11\ttrain loss 3.6819164752960205\n",
      "INFO:jack.util.hooks:Epoch 12\tIter 12\ttrain loss 3.091872453689575\n",
      "INFO:jack.util.hooks:Epoch 13\tIter 13\ttrain loss 2.5408599376678467\n",
      "INFO:jack.util.hooks:Epoch 14\tIter 14\ttrain loss 2.116976499557495\n",
      "INFO:jack.util.hooks:Epoch 15\tIter 15\ttrain loss 2.334890604019165\n",
      "INFO:jack.util.hooks:Epoch 16\tIter 16\ttrain loss 1.6613078117370605\n",
      "INFO:jack.util.hooks:Epoch 17\tIter 17\ttrain loss 1.3781484365463257\n",
      "INFO:jack.util.hooks:Epoch 18\tIter 18\ttrain loss 1.064865231513977\n",
      "INFO:jack.util.hooks:Epoch 19\tIter 19\ttrain loss 0.7743496894836426\n",
      "INFO:jack.util.hooks:Epoch 20\tIter 20\ttrain loss 0.8217644095420837\n"
     ]
    }
   ],
   "source": [
    "# for training we use the bin/jack-train.py script, however, programatically we could quickly train a model like this\n",
    "from jack.util.hooks import LossHook, ExamplesPerSecHook\n",
    "import tensorflow as tf\n",
    "\n",
    "# setup reader ini training mode\n",
    "tf.reset_default_graph()\n",
    "fastqa_reader = readers.readers[\"fastqa_reader\"](svac)\n",
    "fastqa_reader.setup_from_data(train_data, is_training=True)\n",
    "\n",
    "batch_size=len(train_data)\n",
    "hooks = [LossHook(fastqa_reader, iter_interval=1), \n",
    "         ExamplesPerSecHook(fastqa_reader, batch_size, iter_interval=1)]\n",
    "optimizer = tf.train.AdamOptimizer(0.1)\n",
    "fastqa_reader.train(optimizer, batch_size=batch_size, hooks=hooks, max_epochs=20, training_set=train_data)"
   ]
  },
  {
   "cell_type": "code",
   "execution_count": 16,
   "metadata": {},
   "outputs": [
    {
     "name": "stdout",
     "output_type": "stream",
     "text": [
      "Question: To whom did the Virgin Mary allegedly appear in 1858 in Lourdes France?\n",
      "Answer:   Saint Bernadette Soubirous \t 26.419\n",
      "\n",
      "Question: What is in front of the Notre Dame Main Building?\n",
      "Answer:   a golden statue of the Virgin Mary \t 21.271\n",
      "\n",
      "Question: The Basilica of the Sacred heart at Notre Dame is beside to which structure?\n",
      "Answer:   the Main Building \t 20.842\n",
      "\n",
      "Question: What is the Grotto at Notre Dame?\n",
      "Answer:   a Marian place of prayer and reflection \t 19.491\n",
      "\n",
      "Question: What sits on top of the Main Building at Notre Dame?\n",
      "Answer:   a golden statue of the Virgin Mary \t 21.536\n",
      "\n",
      "Question: When did the Scholastic Magazine of Notre dame begin publishing?\n",
      "Answer:   September 1876 \t 31.663\n",
      "\n",
      "Question: How often is Notre Dame's the Juggler published?\n",
      "Answer:   twice \t 32.082\n",
      "\n",
      "Question: What is the daily student paper at Notre Dame called?\n",
      "Answer:   September 1876 \t 28.987\n",
      "\n",
      "Question: How many student news papers are found at Notre Dame?\n",
      "Answer:   three \t 33.853\n",
      "\n",
      "Question: In what year did the student paper Common Sense begin publication at Notre Dame?\n",
      "Answer:   September 1876 \t 29.476\n",
      "\n",
      "Question: Where is the headquarters of the Congregation of the Holy Cross?\n",
      "Answer:   Rome \t 27.922\n",
      "\n",
      "Question: What is the primary seminary of the Congregation of the Holy Cross?\n",
      "Answer:   Moreau Seminary \t 24.307\n",
      "\n",
      "Question: What is the oldest structure at Notre Dame?\n",
      "Answer:   Old College \t 29.019\n",
      "\n",
      "Question: What individuals live at Fatima House at Notre Dame?\n",
      "Answer:   Retired priests and brothers \t 30.752\n",
      "\n",
      "Question: Which prize did Frederick Buechner create?\n",
      "Answer:   Buechner Prize for Preaching \t 24.648\n",
      "\n",
      "Question: How many BS level degrees are offered in the College of Engineering at Notre Dame?\n",
      "Answer:   eight \t 27.512\n",
      "\n",
      "Question: In what year was the College of Engineering at Notre Dame formed?\n",
      "Answer:   1920 \t 24.768\n",
      "\n",
      "Question: Before the creation of the College of Engineering similar studies were carried out at which Notre Dame college?\n",
      "Answer:   the College of Science \t 21.915\n",
      "\n",
      "Question: How many departments are within the Stinson-Remick Hall of Engineering?\n",
      "Answer:   five \t 34.838\n",
      "\n",
      "Question: The College of Science began to offer civil engineering courses beginning at what time at Notre Dame?\n",
      "Answer:   the 1870s \t 28.046\n",
      "\n",
      "Question: What entity provides help with the management of time for new students at Notre Dame?\n",
      "Answer:   Learning Resource Center \t 34.335\n",
      "\n",
      "Question: How many colleges for undergraduates are at Notre Dame?\n",
      "Answer:   five \t 29.733\n",
      "\n",
      "Question: What was created at Notre Dame in 1962 to assist first year students?\n",
      "Answer:   The First Year of Studies program \t 23.210\n",
      "\n",
      "Question: Which organization declared the First Year of Studies program at Notre Dame \"outstanding?\"\n",
      "Answer:   U.S. News & World Report \t 21.674\n",
      "\n"
     ]
    }
   ],
   "source": [
    "# After training the output should look better\n",
    "for q, a in zip(questions, fastqa_reader(questions)):\n",
    "    print(\"Question: \" + q.question)\n",
    "    print(\"Answer:   %s \\t %.3f\" % (a[0].text, a[0].score))\n",
    "    print()"
   ]
  }
 ],
 "metadata": {
  "hide_input": false,
  "kernelspec": {
   "display_name": "Python 3",
   "language": "python",
   "name": "python3"
  },
  "language_info": {
   "codemirror_mode": {
    "name": "ipython",
    "version": 3
   },
   "file_extension": ".py",
   "mimetype": "text/x-python",
   "name": "python",
   "nbconvert_exporter": "python",
   "pygments_lexer": "ipython3",
   "version": "3.6.2"
  }
 },
 "nbformat": 4,
 "nbformat_minor": 1
}
