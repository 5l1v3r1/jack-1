{
 "cells": [
  {
   "cell_type": "markdown",
   "metadata": {},
   "source": [
    "# Example Notebook to showcasing how we interact with JTReaders"
   ]
  },
  {
   "cell_type": "code",
   "execution_count": 1,
   "metadata": {
    "collapsed": true
   },
   "outputs": [],
   "source": [
    "# First change dir to JTR parent\n",
    "import os\n",
    "os.chdir('..')"
   ]
  },
  {
   "cell_type": "markdown",
   "metadata": {},
   "source": [
    "### Bookkeeping of all existing readers: `readers.py`"
   ]
  },
  {
   "cell_type": "code",
   "execution_count": 2,
   "metadata": {
    "collapsed": false
   },
   "outputs": [
    {
     "name": "stdout",
     "output_type": "stream",
     "text": [
      "[nltk_data] Downloading package punkt to /home/dirk/nltk_data...\n",
      "[nltk_data]   Package punkt is already up-to-date!\n"
     ]
    }
   ],
   "source": [
    "import jtr.readers as readers"
   ]
  },
  {
   "cell_type": "code",
   "execution_count": 3,
   "metadata": {
    "collapsed": false
   },
   "outputs": [
    {
     "name": "stdout",
     "output_type": "stream",
     "text": [
      "Existing models:\n",
      "transe_reader, cbilstm_snli_reader, distmult_reader, esim_snli_reader, cbilstm_snli_streaming_reader, cbow_xqa_reader, dam_snli_reader, modelf_reader, fastqa_reader, example_reader, complex_reader\n"
     ]
    }
   ],
   "source": [
    "print(\"Existing models:\\n%s\" % \", \".join(readers.readers.keys()))"
   ]
  },
  {
   "cell_type": "markdown",
   "metadata": {},
   "source": [
    "### Create a reader"
   ]
  },
  {
   "cell_type": "code",
   "execution_count": 4,
   "metadata": {
    "collapsed": false
   },
   "outputs": [
    {
     "name": "stdout",
     "output_type": "stream",
     "text": [
      "glove.6B.50d.txt already exists! Doing nothing!\n"
     ]
    }
   ],
   "source": [
    "%%script bash\n",
    "bash data/GloVe/download.sh"
   ]
  },
  {
   "cell_type": "code",
   "execution_count": 5,
   "metadata": {
    "collapsed": true
   },
   "outputs": [],
   "source": [
    "from jtr.io.embeddings.embeddings import load_embeddings\n",
    "from jtr.util.vocab import Vocab\n",
    "\n",
    "# we need a vocabulary (with embeddings for our fastqa_reader, but this is not always necessary)\n",
    "embeddings = load_embeddings('data/GloVe/glove.6B.50d.txt', 'glove')\n",
    "vocab = Vocab(emb=embeddings, init_from_embeddings=True)\n",
    "\n",
    "# and a config\n",
    "config = {\"batch_size\": 1, \"repr_dim\": 10, \"repr_dim_input\": embeddings.lookup.shape[1]}"
   ]
  },
  {
   "cell_type": "code",
   "execution_count": 6,
   "metadata": {
    "collapsed": true
   },
   "outputs": [],
   "source": [
    "# create example reader\n",
    "from jtr.core import SharedResources\n",
    "\n",
    "svac = SharedResources(vocab, config)\n",
    "fastqa_reader = readers.readers[\"fastqa_reader\"](svac)"
   ]
  },
  {
   "cell_type": "markdown",
   "metadata": {},
   "source": [
    "### Setting up a reader from training data "
   ]
  },
  {
   "cell_type": "code",
   "execution_count": 7,
   "metadata": {
    "collapsed": false
   },
   "outputs": [],
   "source": [
    "from jtr.data_structures import load_labelled_data\n",
    "train_data = load_labelled_data('data/SQuAD/snippet.jtr.json')\n",
    "# all parameters are initialized after this call\n",
    "fastqa_reader.setup_from_data(train_data)"
   ]
  },
  {
   "cell_type": "markdown",
   "metadata": {},
   "source": [
    "### Saving the reader"
   ]
  },
  {
   "cell_type": "code",
   "execution_count": 8,
   "metadata": {
    "collapsed": false
   },
   "outputs": [],
   "source": [
    "fastqa_reader.store(\"/tmp/fastqa_reader\")"
   ]
  },
  {
   "cell_type": "code",
   "execution_count": 9,
   "metadata": {
    "collapsed": false
   },
   "outputs": [
    {
     "name": "stdout",
     "output_type": "stream",
     "text": [
      "checkpoint\n",
      "model_module.data-00000-of-00001\n",
      "model_module.index\n",
      "model_module.meta\n",
      "shared_resources\n"
     ]
    }
   ],
   "source": [
    "%%sh\n",
    "ls /tmp/fastqa_reader/"
   ]
  },
  {
   "cell_type": "markdown",
   "metadata": {},
   "source": [
    "### Loading the reader"
   ]
  },
  {
   "cell_type": "code",
   "execution_count": 10,
   "metadata": {
    "collapsed": false
   },
   "outputs": [
    {
     "name": "stdout",
     "output_type": "stream",
     "text": [
      "INFO:tensorflow:Restoring parameters from /tmp/fastqa_reader/model_module\n"
     ]
    }
   ],
   "source": [
    "# we can simply load a setup reader\n",
    "fastqa_reader.load(\"/tmp/fastqa_reader\")"
   ]
  },
  {
   "cell_type": "code",
   "execution_count": 11,
   "metadata": {
    "collapsed": false
   },
   "outputs": [
    {
     "name": "stdout",
     "output_type": "stream",
     "text": [
      "INFO:tensorflow:Restoring parameters from /tmp/fastqa_reader/model_module\n"
     ]
    }
   ],
   "source": [
    "# or setup a new reader from file \n",
    "import tensorflow as tf\n",
    "from jtr.util.vocab import Vocab\n",
    "\n",
    "# reset graph -> computation graph is gone\n",
    "tf.reset_default_graph()\n",
    "svac = SharedResources(None, None)\n",
    "fastqa_reader = readers.readers[\"fastqa_reader\"](svac)\n",
    "fastqa_reader.setup_from_file(\"/tmp/fastqa_reader\")"
   ]
  },
  {
   "cell_type": "markdown",
   "metadata": {},
   "source": [
    "### Applying the reader"
   ]
  },
  {
   "cell_type": "code",
   "execution_count": 12,
   "metadata": {
    "collapsed": true
   },
   "outputs": [],
   "source": [
    "from jtr.data_structures import load_labelled_data\n",
    "train_data = load_labelled_data('data/SQuAD/snippet.jtr.json')\n",
    "\n",
    "# take a list of inputs, e.g., from our training data\n",
    "questions = [q for q, a in train_data]"
   ]
  },
  {
   "cell_type": "code",
   "execution_count": 13,
   "metadata": {
    "collapsed": false
   },
   "outputs": [
    {
     "name": "stdout",
     "output_type": "stream",
     "text": [
      "0.00037656372296623886, the main drive (and in a, (565, 589)\n",
      "0.00024976138956844807, grotto at Lourdes, France where the Virgin Mary reputedly appeared to Saint Bernadette Soubirous in 1858. At the end of the main drive (and in a, (445, 589)\n",
      "0.0005710708210244775, connects through 3 statues, (607, 633)\n",
      "0.00024260827922262251, grotto at Lourdes, France where the Virgin Mary reputedly appeared to Saint Bernadette Soubirous in 1858. At the end of the main drive (and in a, (445, 589)\n",
      "0.00024483827291987836, grotto at Lourdes, France where the Virgin Mary reputedly appeared to Saint Bernadette Soubirous in 1858. At the end of the main drive (and in a, (445, 589)\n",
      "4.880869892076589e-05, station, and several magazines and journals. Begun as a one-page journal in September 1876, the Scholastic magazine is issued twice monthly and claims to be the oldest continuous collegiate publication in the United States. The other magazine, The Juggler, is released twice a year, (172, 453)\n",
      "4.3058804294560105e-05, station, and several magazines and journals. Begun as a one-page journal in September 1876, the Scholastic magazine is issued twice monthly and claims to be the oldest continuous collegiate publication in the United States. The other magazine, The Juggler, is released twice a year, (172, 453)\n",
      "4.176580114290118e-05, station, and several magazines and journals. Begun as a one-page journal in September 1876, the Scholastic magazine is issued twice monthly and claims to be the oldest continuous collegiate publication in the United States. The other magazine, The Juggler, is released twice a year, (172, 453)\n",
      "4.569335578707978e-05, station, and several magazines and journals. Begun as a one-page journal in September 1876, the Scholastic magazine is issued twice monthly and claims to be the oldest continuous collegiate publication in the United States. The other magazine, The Juggler, is released twice a year, (172, 453)\n",
      "4.76641725981608e-05, station, and several magazines and journals. Begun as a one-page journal in September 1876, the Scholastic magazine is issued twice monthly and claims to be the oldest continuous collegiate publication in the United States. The other magazine, The Juggler, is released twice a year, (172, 453)\n",
      "0.0002215301210526377, reside in Fatima House (a former retreat center, (385, 432)\n",
      "0.00022423166956286877, reside in Fatima House (a former retreat center), Holy Cross House, as well as Columba Hall near the Grotto. The university through the Moreau Seminary has ties to theologian Frederick Buechner. While not Catholic, Buechner has praised, (385, 620)\n",
      "0.00022534660820383579, reside in Fatima House (a former retreat center), Holy Cross House, as well as Columba Hall near the Grotto. The university through the Moreau Seminary has ties to theologian Frederick Buechner. While not Catholic, Buechner has praised, (385, 620)\n",
      "0.00020345851953607053, houses undergraduate seminarians. Retired priests and brothers reside in Fatima House (a former retreat center), Holy Cross House, as well as Columba Hall near the Grotto. The university through the Moreau Seminary has ties to theologian, (322, 559)\n",
      "0.00019142650126013905, houses undergraduate seminarians. Retired priests and brothers reside in Fatima House (a former retreat center), Holy Cross House, as well as Columba Hall near the Grotto. The university through the Moreau Seminary has ties to theologian Frederick Buechner. While not Catholic, Buechner has praised, (322, 620)\n",
      "0.00013634812785312533, were a part of the College of Science since the 1870s. Today the college, housed in the Fitzpatrick, Cushing, and Stinson-Remick Halls of Engineering, includes five departments of study – aerospace and mechanical engineering, chemical and biomolecular engineering, civil engineering and geological sciences, computer science and engineering, and electrical engineering – with eight B.S. degrees offered. Additionally, the college offers five-, (111, 553)\n",
      "0.00014728128735441715, were a part of the College of Science since the 1870s. Today the college, housed in the Fitzpatrick, Cushing, and Stinson-Remick Halls of Engineering, includes five departments of study – aerospace and mechanical engineering, chemical and biomolecular engineering, civil engineering and geological sciences, computer science and engineering, and electrical engineering – with eight B.S. degrees offered. Additionally, the college offers five-year, (111, 557)\n",
      "0.00013250691699795425, early courses in civil and mechanical engineering were a part of the College of Science since the 1870s. Today the college, housed in the Fitzpatrick, Cushing, and Stinson-Remick Halls of Engineering, includes five departments of study – aerospace and mechanical engineering, chemical and biomolecular engineering, civil engineering and geological sciences, computer science and engineering, and electrical engineering – with eight B.S. degrees offered. Additionally, the college offers five-year, (61, 557)\n",
      "0.00014980306150391698, were a part of the College of Science since the 1870s. Today the college, housed in the Fitzpatrick, Cushing, and Stinson-Remick Halls of Engineering, includes five departments of study – aerospace and mechanical engineering, chemical and biomolecular engineering, civil engineering and geological sciences, computer science and engineering, and electrical engineering – with eight B.S. degrees offered. Additionally, the college offers five-year, (111, 557)\n",
      "0.00015308168076444417, were a part of the College of Science since the 1870s. Today the college, housed in the Fitzpatrick, Cushing, and Stinson-Remick Halls of Engineering, includes five departments of study – aerospace and mechanical engineering, chemical and biomolecular engineering, civil engineering and geological sciences, computer science and engineering, and electrical engineering – with eight B.S. degrees offered. Additionally, the college offers five-year dual degree programs with, (111, 583)\n",
      "0.00017298701277468354, established in 1962 to guide incoming freshmen in their first year at the school before they have declared a major. Each student is given an academic advisor from the program who helps them to choose, (193, 392)\n",
      "0.00014363147784024477, at the school or are in the First Year of Studies program. The First Year of Studies program was established in 1962 to guide incoming freshmen in their first year at the school before they have declared a major. Each student is given an academic advisor from the program who helps them to choose classes that give them exposure to any major, (96, 437)\n",
      "0.00015395518857985735, at the school or are in the First Year of Studies program. The First Year of Studies program was established in 1962 to guide incoming freshmen in their first year at the school before they have declared a major, (96, 307)\n",
      "0.00014278851449489594, at the school or are in the First Year of Studies program. The First Year of Studies program was established in 1962 to guide incoming freshmen in their first year, (96, 259)\n"
     ]
    }
   ],
   "source": [
    "for a in fastqa_reader(questions):\n",
    "    print(\"{}, {}, {}\".format(a.score, a.text, a.span))"
   ]
  }
 ],
 "metadata": {
  "kernelspec": {
   "display_name": "Python 3",
   "language": "python",
   "name": "python3"
  },
  "language_info": {
   "codemirror_mode": {
    "name": "ipython",
    "version": 3
   },
   "file_extension": ".py",
   "mimetype": "text/x-python",
   "name": "python",
   "nbconvert_exporter": "python",
   "pygments_lexer": "ipython3",
   "version": "3.5.3"
  }
 },
 "nbformat": 4,
 "nbformat_minor": 1
}
