{
 "cells": [
  {
   "cell_type": "markdown",
   "metadata": {},
   "source": [
    "# Example Notebook to showcasing how we interact with JTReaders"
   ]
  },
  {
   "cell_type": "code",
   "execution_count": 1,
   "metadata": {
    "collapsed": true
   },
   "outputs": [],
   "source": [
    "# First change dir to JTR parent\n",
    "import os\n",
    "os.chdir('..')"
   ]
  },
  {
   "cell_type": "markdown",
   "metadata": {},
   "source": [
    "### Bookkeeping of all existing readers: `readers.py`"
   ]
  },
  {
   "cell_type": "code",
   "execution_count": 2,
   "metadata": {},
   "outputs": [],
   "source": [
    "import jtr.readers as readers"
   ]
  },
  {
   "cell_type": "code",
   "execution_count": 3,
   "metadata": {},
   "outputs": [
    {
     "name": "stdout",
     "output_type": "stream",
     "text": [
      "Existing models:\n",
      "example_reader, modelf_reader, distmult_reader, complex_reader, transe_reader, fastqa_reader, cbow_xqa_reader, snli_reader\n"
     ]
    }
   ],
   "source": [
    "print(\"Existing models:\\n%s\" % \", \".join(readers.readers.keys()))"
   ]
  },
  {
   "cell_type": "markdown",
   "metadata": {},
   "source": [
    "### Create a reader"
   ]
  },
  {
   "cell_type": "code",
   "execution_count": null,
   "metadata": {},
   "outputs": [
    {
     "name": "stdout",
     "output_type": "stream",
     "text": [
      "glove.6B.50d.txt already exists! Doing nothing!\n"
     ]
    }
   ],
   "source": [
    "%%script bash\n",
    "bash data/GloVe/download.sh"
   ]
  },
  {
   "cell_type": "code",
   "execution_count": null,
   "metadata": {},
   "outputs": [],
   "source": [
    "from jtr.io.embeddings.embeddings import load_embeddings\n",
    "from jtr.util.vocab import Vocab\n",
    "\n",
    "# we need a vocabulary (with embeddings for our fastqa_reader, but this is not always necessary)\n",
    "embeddings = load_embeddings('data/GloVe/glove.6B.50d.txt', 'glove')\n",
    "vocab = Vocab(emb=embeddings, init_from_embeddings=True)\n",
    "\n",
    "# and a config\n",
    "config = {\"batch_size\": 1, \"repr_dim\": 10, \"repr_dim_input\": embeddings.lookup.shape[1]}"
   ]
  },
  {
   "cell_type": "code",
   "execution_count": null,
   "metadata": {},
   "outputs": [],
   "source": [
    "# create example reader\n",
    "from jtr.core import SharedVocabAndConfig\n",
    "\n",
    "svac = SharedVocabAndConfig(vocab, config)\n",
    "fastqa_reader = readers.readers[\"fastqa_reader\"](svac)"
   ]
  },
  {
   "cell_type": "markdown",
   "metadata": {},
   "source": [
    "### Setting up a reader from training data "
   ]
  },
  {
   "cell_type": "code",
   "execution_count": null,
   "metadata": {},
   "outputs": [],
   "source": [
    "from jtr.data_structures import load_labelled_data\n",
    "train_data = load_labelled_data('data/SQuAD/snippet.jtr.json')\n",
    "# all parameters are initialized after this call\n",
    "fastqa_reader.setup_from_data(train_data)"
   ]
  },
  {
   "cell_type": "markdown",
   "metadata": {},
   "source": [
    "### Saving the reader"
   ]
  },
  {
   "cell_type": "code",
   "execution_count": null,
   "metadata": {},
   "outputs": [],
   "source": [
    "fastqa_reader.store(\"/tmp/fastqa_reader\")"
   ]
  },
  {
   "cell_type": "code",
   "execution_count": null,
   "metadata": {},
   "outputs": [],
   "source": [
    "%%sh\n",
    "ls /tmp/fastqa_reader/"
   ]
  },
  {
   "cell_type": "markdown",
   "metadata": {},
   "source": [
    "### Loading the reader"
   ]
  },
  {
   "cell_type": "code",
   "execution_count": null,
   "metadata": {},
   "outputs": [],
   "source": [
    "# we can simply load a setup reader\n",
    "fastqa_reader.load(\"/tmp/fastqa_reader\")"
   ]
  },
  {
   "cell_type": "code",
   "execution_count": null,
   "metadata": {},
   "outputs": [],
   "source": [
    "# or setup a new reader from file \n",
    "import tensorflow as tf\n",
    "from jtr.util.vocab import Vocab\n",
    "\n",
    "# reset graph -> computation graph is gone\n",
    "tf.reset_default_graph()\n",
    "svac = SharedVocabAndConfig(None, None)\n",
    "fastqa_reader = readers.readers[\"fastqa_reader\"](svac)\n",
    "fastqa_reader.setup_from_file(\"/tmp/fastqa_reader\")"
   ]
  },
  {
   "cell_type": "markdown",
   "metadata": {},
   "source": [
    "### Applying the reader"
   ]
  },
  {
   "cell_type": "code",
   "execution_count": null,
   "metadata": {},
   "outputs": [],
   "source": [
    "from jtr.data_structures import load_labelled_data\n",
    "train_data = load_labelled_data('data/SQuAD/snippet.jtr.json')\n",
    "\n",
    "# take a list of inputs, e.g., from our training data\n",
    "questions = [q for q, a in train_data]"
   ]
  },
  {
   "cell_type": "code",
   "execution_count": null,
   "metadata": {},
   "outputs": [],
   "source": [
    "for a in fastqa_reader(questions):\n",
    "    print(\"{}, {}, {}\".format(a.score, a.text, a.span))"
   ]
  },
  {
   "cell_type": "code",
   "execution_count": null,
   "metadata": {
    "collapsed": true
   },
   "outputs": [],
   "source": []
  }
 ],
 "metadata": {
  "kernelspec": {
   "display_name": "Python 3",
   "language": "python",
   "name": "python3"
  },
  "language_info": {
   "codemirror_mode": {
    "name": "ipython",
    "version": 3
   },
   "file_extension": ".py",
   "mimetype": "text/x-python",
   "name": "python",
   "nbconvert_exporter": "python",
   "pygments_lexer": "ipython3",
   "version": "3.6.1"
  }
 },
 "nbformat": 4,
 "nbformat_minor": 1
}
