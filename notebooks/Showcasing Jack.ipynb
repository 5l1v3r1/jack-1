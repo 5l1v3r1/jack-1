{
 "cells": [
  {
   "cell_type": "markdown",
   "metadata": {},
   "source": [
    "# Example Notebook to showcasing how we interact with JTReaders"
   ]
  },
  {
   "cell_type": "code",
   "execution_count": 1,
   "metadata": {},
   "outputs": [],
   "source": [
    "# First change dir to JTR parent\n",
    "import os\n",
    "os.chdir('..')"
   ]
  },
  {
   "cell_type": "markdown",
   "metadata": {},
   "source": [
    "### Bookkeeping of all existing readers: `readers.py`"
   ]
  },
  {
   "cell_type": "code",
   "execution_count": 2,
   "metadata": {},
   "outputs": [],
   "source": [
    "import jtr.jack.readers as readers"
   ]
  },
  {
   "cell_type": "code",
   "execution_count": 3,
   "metadata": {},
   "outputs": [
    {
     "name": "stdout",
     "output_type": "stream",
     "text": [
      "Existing models:\n",
      "fastqa_reader, example_reader\n"
     ]
    }
   ],
   "source": [
    "print(\"Existing models:\\n%s\" % \", \".join(readers.readers.keys()))"
   ]
  },
  {
   "cell_type": "markdown",
   "metadata": {},
   "source": [
    "### Create a reader"
   ]
  },
  {
   "cell_type": "code",
   "execution_count": 4,
   "metadata": {},
   "outputs": [
    {
     "name": "stdout",
     "output_type": "stream",
     "text": [
      "glove.6B.50d.txt already exists! Doing nothing!\n"
     ]
    }
   ],
   "source": [
    "%%script bash\n",
    "bash jtr/data/GloVe/download.sh"
   ]
  },
  {
   "cell_type": "code",
   "execution_count": 5,
   "metadata": {},
   "outputs": [
    {
     "name": "stdout",
     "output_type": "stream",
     "text": [
      "[Loading GloVe]\n",
      "  100k vectors processed...\n",
      "  200k vectors processed...\n",
      "  300k vectors processed...\n",
      "  400k vectors processed...\n",
      "[Loading GloVe DONE]\n"
     ]
    }
   ],
   "source": [
    "from jtr.load.embeddings.embeddings import load_embeddings\n",
    "from jtr.preprocess.vocab import Vocab\n",
    "\n",
    "# we need a vocabulary (with embeddings for our fastqa_reader, but this is not always necessary)\n",
    "embeddings = load_embeddings('jtr/data/GloVe/glove.6B.50d.txt', 'glove')\n",
    "vocab = Vocab(emb=embeddings, init_from_embeddings=True)\n",
    "\n",
    "# and a config\n",
    "config = {\"batch_size\": 1, \"repr_dim\": 10, \"repr_input_dim\": embeddings.lookup.shape[1]}"
   ]
  },
  {
   "cell_type": "code",
   "execution_count": 6,
   "metadata": {},
   "outputs": [],
   "source": [
    "# create example reader\n",
    "fastqa_reader = readers.readers[\"fastqa_reader\"](vocab, config)"
   ]
  },
  {
   "cell_type": "markdown",
   "metadata": {},
   "source": [
    "### Setting up a reader from training data "
   ]
  },
  {
   "cell_type": "code",
   "execution_count": 7,
   "metadata": {},
   "outputs": [],
   "source": [
    "from jtr.jack import load_labelled_data\n",
    "train_data = load_labelled_data('data/SQuAD/snippet_jtr.json')\n",
    "# all parameters are initialized after this call\n",
    "fastqa_reader.setup_from_data(train_data)"
   ]
  },
  {
   "cell_type": "markdown",
   "metadata": {},
   "source": [
    "### Saving the reader"
   ]
  },
  {
   "cell_type": "code",
   "execution_count": 8,
   "metadata": {},
   "outputs": [],
   "source": [
    "fastqa_reader.store(\"/tmp/fastqa_reader\")"
   ]
  },
  {
   "cell_type": "code",
   "execution_count": 9,
   "metadata": {},
   "outputs": [
    {
     "name": "stdout",
     "output_type": "stream",
     "text": [
      "checkpoint\n",
      "model_module.data-00000-of-00001\n",
      "model_module.index\n",
      "model_module.meta\n",
      "shared_resources\n"
     ]
    }
   ],
   "source": [
    "%%sh\n",
    "ls /tmp/fastqa_reader"
   ]
  },
  {
   "cell_type": "markdown",
   "metadata": {},
   "source": [
    "### Loading the reader"
   ]
  },
  {
   "cell_type": "code",
   "execution_count": 10,
   "metadata": {},
   "outputs": [],
   "source": [
    "# we can simply load a setup reader\n",
    "fastqa_reader.load(\"/tmp/fastqa_reader\")"
   ]
  },
  {
   "cell_type": "code",
   "execution_count": 11,
   "metadata": {},
   "outputs": [],
   "source": [
    "# or setup a new reader from file \n",
    "import tensorflow as tf\n",
    "from jtr.preprocess.vocab import Vocab\n",
    "\n",
    "# reset graph -> computation graph is gone\n",
    "tf.reset_default_graph()\n",
    "fastqa_reader = readers.readers[\"fastqa_reader\"](None, None)\n",
    "fastqa_reader.setup_from_file(\"/tmp/fastqa_reader\")"
   ]
  },
  {
   "cell_type": "markdown",
   "metadata": {},
   "source": [
    "### Applying the reader"
   ]
  },
  {
   "cell_type": "code",
   "execution_count": 12,
   "metadata": {},
   "outputs": [],
   "source": [
    "from jtr.jack import load_labelled_data\n",
    "train_data = load_labelled_data('data/SQuAD/snippet_jtr.json')\n",
    "\n",
    "# take a list of inputs, e.g., from our training data\n",
    "questions = [q for q, a in train_data]"
   ]
  },
  {
   "cell_type": "code",
   "execution_count": 13,
   "metadata": {},
   "outputs": [
    {
     "data": {
      "text/plain": [
       "[Answer(text='season. The American Football Conference', span=(121, 161), score=9.6192991e-05),\n",
       " Answer(text='league emphasized the \"golden anniversary\" with various gold-themed initiatives, as well as temporarily', span=(465, 568), score=0.00018284759),\n",
       " Answer(text='league emphasized the \"golden anniversary\" with various gold-themed initiatives, as well as temporarily', span=(465, 568), score=0.00019887803),\n",
       " Answer(text='Super Bowl 50 was an American football game to determine the champion of the National Football League (NFL) for the 2015 season. The American Football Conference (AFC) champion Denver Broncos defeated the National Football Conference (NFC) champion Carolina Panthers 24–10 to earn their third Super Bowl title. The game was played on February 7, 2016, at Levi\\'s Stadium in the San Francisco Bay Area at Santa Clara, California. As this was the 50th Super Bowl, the league emphasized the \"golden anniversary\" with various gold-themed initiatives, as well as temporarily suspending the tradition of naming each Super Bowl game with Roman numerals (under which the game would have been known as \"Super Bowl L\"), so that the logo could prominently feature the Arabic numerals 50.', span=(0, 775), score=5.2865922e-05),\n",
       " Answer(text='Super Bowl 50', span=(0, 13), score=5.2758991e-05)]"
      ]
     },
     "execution_count": 13,
     "output_type": "execute_result",
     "metadata": {}
    }
   ],
   "source": [
    "fastqa_reader(questions)"
   ]
  }
 ],
 "metadata": {
  "kernelspec": {
   "display_name": "Python 3",
   "language": "python",
   "name": "python3"
  },
  "language_info": {
   "codemirror_mode": {
    "name": "ipython",
    "version": 3.0
   },
   "file_extension": ".py",
   "mimetype": "text/x-python",
   "name": "python",
   "nbconvert_exporter": "python",
   "pygments_lexer": "ipython3",
   "version": "3.5.2"
  }
 },
 "nbformat": 4,
 "nbformat_minor": 1
}