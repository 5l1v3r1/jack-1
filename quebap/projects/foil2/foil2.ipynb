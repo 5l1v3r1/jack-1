{
 "cells": [
  {
   "cell_type": "code",
   "execution_count": 318,
   "metadata": {
    "collapsed": false
   },
   "outputs": [
    {
     "name": "stdout",
     "output_type": "stream",
     "text": [
      "The autoreload extension is already loaded. To reload it, use:\n",
      "  %reload_ext autoreload\n"
     ]
    }
   ],
   "source": [
    "import tensorflow as tf\n",
    "import numpy as np\n",
    "%load_ext autoreload\n",
    "%autoreload 2"
   ]
  },
  {
   "cell_type": "code",
   "execution_count": 319,
   "metadata": {
    "collapsed": false
   },
   "outputs": [
    {
     "name": "stdout",
     "output_type": "stream",
     "text": [
      "__init__.py\n",
      "foil2.ipynb\n"
     ]
    }
   ],
   "source": [
    "%%bash\n",
    "ls"
   ]
  },
  {
   "cell_type": "code",
   "execution_count": 327,
   "metadata": {
    "collapsed": true
   },
   "outputs": [],
   "source": [
    "tf.reset_default_graph()\n",
    "sess = tf.InteractiveSession()"
   ]
  },
  {
   "cell_type": "code",
   "execution_count": 413,
   "metadata": {
    "collapsed": false
   },
   "outputs": [],
   "source": [
    "num_entities = 2\n",
    "num_relations = 3\n",
    "emb_dim = 4\n",
    "ent_embeddings = tf.Variable(tf.random_normal([num_entities, emb_dim],stddev=0.1), tf.float32)\n",
    "rel_embeddings = tf.Variable(tf.random_normal([num_relations, emb_dim, emb_dim],stddev=0.1), tf.float32)\n",
    "\n",
    "bool_ent_embeddings = tf.sigmoid(ent_embeddings)\n",
    "parameters = [ent_embeddings,rel_embeddings]\n",
    "\n",
    "def scores(rel_ids, arg1_ids, arg2_ids):\n",
    "    batch_rel_embeddings = tf.gather(rel_embeddings, rel_ids) # [num_facts, emb_dim, emb_dim]\n",
    "    arg1_embeddings = tf.gather(bool_ent_embeddings, arg1_ids)\n",
    "    arg2_embeddings = tf.gather(bool_ent_embeddings, arg2_ids) # [num_facts, 1, emb_dim]\n",
    "    return scores_for_embeddings(batch_rel_embeddings, arg1_embeddings, arg2_embeddings)\n",
    "\n",
    "def scores_for_embeddings(batch_rel_embeddings, arg1_embeddings,arg2_embeddings):\n",
    "    expanded_arg1_embeddings = tf.expand_dims(arg1_embeddings, 2)\n",
    "    expanded_arg2_embeddings = tf.expand_dims(arg2_embeddings, 1)\n",
    "    result = tf.reduce_sum(expanded_arg1_embeddings * batch_rel_embeddings * expanded_arg2_embeddings, [1,2])\n",
    "    return result\n",
    "\n",
    "def log_loss(scores, targets):\n",
    "    return tf.nn.sigmoid_cross_entropy_with_logits(scores, targets)\n",
    "\n",
    "num_order_2_rules = 2\n",
    "use_linear = True\n",
    "if use_linear:\n",
    "    rule_violators_arg1_raw = tf.Variable(tf.random_uniform([num_order_2_rules, emb_dim]), tf.float32) \n",
    "    rule_violators_arg2_raw = tf.Variable(tf.random_uniform([num_order_2_rules, emb_dim]), tf.float32) \n",
    "    rule_violators_arg1 = tf.maximum(0., tf.minimum(1., rule_violators_arg1_raw))\n",
    "    rule_violators_arg2 = tf.maximum(0., tf.minimum(1., rule_violators_arg2_raw))\n",
    "else:\n",
    "    rule_violators_arg1_raw = tf.Variable(tf.random_normal([num_order_2_rules, emb_dim]), tf.float32) \n",
    "    rule_violators_arg2_raw = tf.Variable(tf.random_normal([num_order_2_rules, emb_dim]), tf.float32) \n",
    "    rule_violators_arg1 = tf.sigmoid(rule_violators_arg1_raw)\n",
    "    rule_violators_arg2 = tf.sigmoid(rule_violators_arg2_raw)\n",
    "\n",
    "rule_violators = [rule_violators_arg1_raw, rule_violators_arg2_raw]\n",
    "\n",
    "def rule_losses_for_embeddings(head_embeddings, body_embeddings, arg1s, arg2s):\n",
    "    rule_head_scores = scores_for_embeddings(head_embeddings,arg1s, arg2s)\n",
    "    rule_body_scores = scores_for_embeddings(body_embeddings,arg1s, arg2s)\n",
    "    losses = tf.maximum(0.0, rule_body_scores - rule_head_scores)\n",
    "    return losses    \n",
    "\n",
    "def rule_losses_for_relation_indices(heads, bodies, arg1s, arg2s):\n",
    "    head_embeddings = tf.gather(rel_embeddings, heads) # [num_rules, emb_dim, emb_dim]\n",
    "    body_embeddings = tf.gather(rel_embeddings, bodies) # [num_rules, emb_dim, emb_dim]\n",
    "    return rule_losses_for_embeddings(head_embeddings,body_embeddings, arg1s, arg2s)\n",
    "\n",
    "\n",
    "def rule_losses(heads, bodies):\n",
    "    head_embeddings = tf.gather(rel_embeddings, heads) # [num_rules, emb_dim, emb_dim]\n",
    "    body_embeddings = tf.gather(rel_embeddings, bodies) # [num_rules, emb_dim, emb_dim]\n",
    "    rule_head_scores = scores_for_embeddings(head_embeddings,rule_violators_arg1, rule_violators_arg2)\n",
    "    rule_body_scores = scores_for_embeddings(body_embeddings,rule_violators_arg1, rule_violators_arg2)\n",
    "    losses = tf.maximum(0.0, rule_body_scores - rule_head_scores)\n",
    "    return losses"
   ]
  },
  {
   "cell_type": "code",
   "execution_count": 414,
   "metadata": {
    "collapsed": false
   },
   "outputs": [],
   "source": [
    "sess.run(tf.initialize_all_variables())\n",
    "# sess.run(log_loss(scores([0,1],[1,2],[2,3]), [1.,0]))"
   ]
  },
  {
   "cell_type": "code",
   "execution_count": 323,
   "metadata": {
    "collapsed": false
   },
   "outputs": [
    {
     "data": {
      "text/plain": [
       "array([ 0.01249681,  0.        ], dtype=float32)"
      ]
     },
     "execution_count": 323,
     "metadata": {},
     "output_type": "execute_result"
    }
   ],
   "source": [
    "sess.run(rule_losses([0,1],[1,2]))"
   ]
  },
  {
   "cell_type": "code",
   "execution_count": 384,
   "metadata": {
    "collapsed": false
   },
   "outputs": [],
   "source": [
    "opt_learn = tf.train.AdamOptimizer(learning_rate=0.01)\n",
    "opt_find = tf.train.AdamOptimizer(learning_rate=1.0)\n",
    "\n",
    "rule_violation_loss = rule_losses([1,2],[0,1])\n",
    "training_loss = log_loss(scores([0],[0],[1]),[1.]) + 100 * rule_violation_loss + \\\n",
    "    0.001 * tf.nn.l2_loss(rel_embeddings) + \\\n",
    "    0.001 * tf.nn.l2_loss(ent_embeddings)\n",
    "\n",
    "opt_find_violation = opt_find.minimize(-rule_violation_loss,var_list=rule_violators)\n",
    "opt_find_parameters = opt_learn.minimize(training_loss, var_list=parameters)"
   ]
  },
  {
   "cell_type": "code",
   "execution_count": 406,
   "metadata": {
    "collapsed": false
   },
   "outputs": [
    {
     "name": "stdout",
     "output_type": "stream",
     "text": [
      "Estimate parameters\n",
      "[ 0.71793658  0.71793658]\n",
      "[-0.04860514  0.04639324  0.09288298]\n",
      "Find Violations\n",
      "[ 0.  0.]\n",
      "Estimate parameters\n",
      "[ 0.73711264  0.73711264]\n",
      "[-0.08547477  0.07404413  0.1611322 ]\n",
      "Find Violations\n",
      "[ 0.  0.]\n"
     ]
    },
    {
     "data": {
      "text/plain": [
       "array([-0.08547477,  0.07404413,  0.1611322 ], dtype=float32)"
      ]
     },
     "execution_count": 406,
     "metadata": {},
     "output_type": "execute_result"
    }
   ],
   "source": [
    "sess.run(tf.initialize_all_variables())\n",
    "num_outer_epochs = 2\n",
    "num_find_violations_epochs = 10\n",
    "num_training_epochs = 10\n",
    "num_print_out = 1\n",
    "for outer_epoch in range(0,num_outer_epochs):\n",
    "    print(\"Estimate parameters\")\n",
    "#     sess.run(tf.initialize_variables(parameters))\n",
    "    for i in range(0,num_training_epochs):\n",
    "        current_loss,_ = sess.run([training_loss,opt_find_parameters])\n",
    "#         if i % (num_training_epochs // num_print_out) == 0:\n",
    "#             print(current_loss)\n",
    "\n",
    "    print(sess.run(training_loss))\n",
    "    print(sess.run(scores([0,1,2],[0,0,0],[1,1,1])))\n",
    "\n",
    "    print(\"Find Violations\")\n",
    "    sess.run(tf.initialize_variables(rule_violators))\n",
    "    for i in range(0,num_find_violations_epochs):\n",
    "        current_loss,_ = sess.run([rule_violation_loss,opt_find_violation])\n",
    "#         if i % (num_find_violations_epochs // num_print_out) == 0:\n",
    "#             print(current_loss)\n",
    "    print(sess.run(rule_violation_loss))\n",
    "                \n",
    "sess.run(scores([0,1,2],[0,0,0],[1,1,1])) \n",
    "# sess.run(scores([1],[0],[1])) "
   ]
  },
  {
   "cell_type": "code",
   "execution_count": 420,
   "metadata": {
    "collapsed": false
   },
   "outputs": [
    {
     "data": {
      "text/plain": [
       "array([[ 1.,  1.,  1.,  0.],\n",
       "       [ 1.,  1.,  0.,  1.]], dtype=float32)"
      ]
     },
     "execution_count": 420,
     "metadata": {},
     "output_type": "execute_result"
    }
   ],
   "source": [
    "def find_violators(heads, bodies):\n",
    "    r2 = tf.gather(rel_embeddings, heads) # [num_rules, emb_dim, emb_dim]\n",
    "    r1 = tf.gather(rel_embeddings, bodies) # [num_rules, emb_dim, emb_dim]\n",
    "\n",
    "    # first score rows of r1 and r2 according to how much r1 > r2\n",
    "    # row_scores = tf.reduce_sum(r1 - r2, 2)\n",
    "    row_scores = tf.reduce_sum(r1 - r2, 2)\n",
    "    # then choose x_i = 1 if row_scores_i > 0 and 0 otherwise\n",
    "    x = tf.to_float(tf.greater(row_scores,0.0)) # [num_rules, emb_dim]\n",
    "    # now calculate cell_scores = x * (r1 - r2)\n",
    "    cell_scores = tf.reduce_sum(tf.expand_dims(x, 2) * (r1 - r2), 1)\n",
    "    \n",
    "    y = tf.to_float(tf.greater(cell_scores,0.0))\n",
    "    \n",
    "    # choose y_i = 1 if cell_scores_i >0 and 0 otherwise\n",
    "    return x,y\n",
    "\n",
    "def loss_of_violators(heads, bodies):\n",
    "    x,y = find_violators(heads, bodies)\n",
    "    return rule_losses_for_relation_indices(heads, bodies, tf.stop_gradient(x), tf.stop_gradient(y))\n",
    "\n",
    "x,y = find_violators([1,2],[0,1])\n",
    "sess.run(x)"
   ]
  },
  {
   "cell_type": "code",
   "execution_count": 425,
   "metadata": {
    "collapsed": false
   },
   "outputs": [
    {
     "data": {
      "text/plain": [
       "array([ 0.73759103,  0.43164906], dtype=float32)"
      ]
     },
     "execution_count": 425,
     "metadata": {},
     "output_type": "execute_result"
    }
   ],
   "source": [
    "sess.run(loss_of_violators([1,2],[0,1]))"
   ]
  },
  {
   "cell_type": "code",
   "execution_count": 427,
   "metadata": {
    "collapsed": true
   },
   "outputs": [],
   "source": [
    "single_loss = log_loss(scores([0],[0],[1]),[1.]) + 10 * loss_of_violators([1,2],[0,1]) + \\\n",
    "    0.001 * tf.nn.l2_loss(rel_embeddings) + \\\n",
    "    0.001 * tf.nn.l2_loss(ent_embeddings)\n",
    "    \n",
    "single_train = tf.train.AdamOptimizer(learning_rate=0.1)\n",
    "single_opt_op = single_train.minimize(single_loss)\n",
    "\n"
   ]
  },
  {
   "cell_type": "code",
   "execution_count": 432,
   "metadata": {
    "collapsed": false
   },
   "outputs": [
    {
     "name": "stdout",
     "output_type": "stream",
     "text": [
      "[ 3.71109772  3.78702116]\n",
      "[ 0.2543166   0.04733372  0.09534913]\n",
      "[ 11.17756748   3.68827319]\n",
      "[ 0.15720308  0.13676359  0.12247671]\n",
      "[ 5.01717186  4.46808052]\n",
      "[ 0.03257356  0.15591231  0.2995961 ]\n",
      "[ 2.80950856  2.16938758]\n",
      "[-0.07318658  0.15549208  0.52132118]\n",
      "[ 0.73133022  0.73133022]\n",
      "[-0.14534345  0.14946072  0.73195297]\n",
      "[ 0.76978981  0.76978981]\n",
      "[-0.18425477  0.13754161  0.92195451]\n",
      "[ 5.52839947  0.79130191]\n",
      "[-0.22892624  0.13255742  1.09010649]\n",
      "[ 5.01397657  0.81637162]\n",
      "[-0.25145918  0.13034813  1.23513174]\n",
      "[ 0.829458  0.829458]\n",
      "[-0.24662238  0.12425942  1.35472548]\n",
      "[ 0.82726818  0.82726818]\n",
      "[-0.21618611  0.11501609  1.44911456]\n",
      "[ 14.85031319   0.81088042]\n",
      "[-0.22881128  0.12211845  1.52040505]\n",
      "[ 0.81836629  0.81836629]\n",
      "[-0.22434784  0.12718137  1.5712595 ]\n",
      "[ 0.81640077  0.81640077]\n",
      "[-0.20430467  0.13062583  1.60442173]\n",
      "[ 0.8058635  0.8058635]\n",
      "[-0.16992804  0.13276261  1.62278152]\n",
      "[ 0.78765845  0.78765845]\n",
      "[-0.12241959  0.13379945  1.62935448]\n",
      "[ 0.76279283  0.76279283]\n",
      "[-0.06302503  0.13390352  1.62742591]\n",
      "[ 18.27224541   0.73238242]\n",
      "[-0.01579037  0.13956735  1.6205436 ]\n",
      "[ 0.70880795  0.70880795]\n",
      "[ 0.0391412   0.14463359  1.61122227]\n",
      "[ 0.68206882  0.68206882]\n",
      "[ 0.10020983  0.14936699  1.601722  ]\n",
      "[ 0.65322608  0.65322608]\n",
      "[ 0.16615891  0.15403791  1.59375632]\n",
      "[ 0.62313616  0.62313616]\n",
      "[ 0.23601744  0.15889828  1.58833718]\n",
      "[ 0.59246343  0.59246343]\n",
      "[ 0.30908805  0.1641624   1.58569121]\n",
      "[ 0.56169701  0.56169701]\n",
      "[ 0.38491821  0.16999373  1.58533919]\n",
      "[ 0.53117788  0.53117788]\n",
      "[ 0.46324936  0.17649952  1.58635366]\n",
      "[ 0.50113678  0.50113678]\n",
      "[ 0.54395419  0.18373266  1.58774245]\n",
      "[ 0.47173205  0.47173205]\n",
      "[ 0.62697363  0.19169927  1.58884287]\n",
      "[ 0.44308385  0.44308385]\n",
      "[ 0.71226275  0.20036688  1.58957458]\n",
      "[ 0.41529563  0.41529563]\n",
      "[ 0.79975361  0.20967253  1.59047842]\n",
      "[ 12.50987816   0.38846797]\n",
      "[ 0.85017616  0.24719205  1.59258008]\n",
      "[ 0.37421283  0.37421283]\n",
      "[ 0.90465146  0.28332254  1.59713268]\n",
      "[ 0.3593522  0.3593522]\n",
      "[ 0.96311194  0.31799564  1.60527444]\n",
      "[ 0.34402123  0.34402123]\n",
      "[ 1.02538431  0.35114789  1.61767101]\n",
      "[ 0.32838285  0.32838285]\n",
      "[ 1.0911963   0.38272294  1.63428187]\n",
      "[ 0.31261772  0.31261772]\n",
      "[ 1.16018844  0.41267285  1.65432584]\n",
      "[ 0.29691267  0.29691267]\n",
      "[ 1.23193347  0.44096079  1.67642462]\n",
      "[ 0.28144976  0.28144976]\n",
      "[ 1.30595398  0.46756259  1.6988728 ]\n",
      "[ 0.26639566  0.26639566]\n",
      "[ 1.38174438  0.49246904  1.71996713]\n",
      "[ 0.25189412  0.25189412]\n",
      "[ 1.45879447  0.51568705  1.7383287 ]\n",
      "[ 0.23806077  0.23806077]\n",
      "[ 1.53660595  0.53724027  1.75314903]\n",
      "[ 0.22498074  0.22498074]\n",
      "[ 1.61470985  0.5571683   1.76430225]\n",
      "[ 10.12579536   0.2127091 ]\n",
      "[ 1.61146271  0.63785338  1.77229559]\n",
      "[ 0.21429864  0.21429864]\n",
      "[ 1.61377656  0.71217281  1.77812874]\n",
      "[ 0.21493936  0.21493936]\n",
      "[ 1.62138307  0.78049558  1.78302157]\n",
      "[ 0.21467775  0.21467775]\n",
      "[ 1.63398278  0.84319335  1.78815162]\n",
      "[ 0.21357651  0.21357651]\n",
      "[ 1.65125394  0.90063572  1.79440391]\n",
      "[ 0.21171071  0.21171071]\n",
      "[ 1.67285705  0.95318556  1.80219424]\n",
      "[ 0.2091644  0.2091644]\n",
      "[ 1.69844007  1.00119531  1.81139851]\n",
      "[ 0.20602676  0.20602676]\n",
      "[ 1.72764575  1.04500484  1.8214016 ]\n",
      "[ 0.20238917  0.20238917]\n",
      "[ 1.76011562  1.08493733  1.83126116]\n",
      "[ 0.19834214  0.19834214]\n",
      "[ 1.79549456  1.1213007   1.83994687]\n",
      "[ 0.19397242  0.19397242]\n",
      "[ 1.83343351  1.15438437  1.84661007]\n",
      "[ 0.18936183  0.18936183]\n",
      "[ 1.873595    1.18445945  1.85081494]\n",
      "[ 0.18458527  0.18458527]\n",
      "[ 1.91565454  1.21177936  1.85265815]\n",
      "[ 0.17971009  0.17971009]\n",
      "[ 1.95930219  1.23657882  1.85274816]\n",
      "[ 0.17479554  0.17479554]\n",
      "[ 2.00424647  1.25907636  1.85203898]\n",
      "[ 14.38734627   0.16989246]\n",
      "[ 1.99785888  1.31896019  1.85157299]\n",
      "[ 0.17107552  0.17107552]\n",
      "[ 1.99639189  1.3736527   1.85219359]\n",
      "[  0.17164384  10.84605217]\n",
      "[ 1.99953198  1.37056112  1.92819488]\n",
      "[ 0.17158341  0.17158341]\n",
      "[ 2.00695705  1.36768806  1.99762392]\n",
      "[ 11.50158215   0.17100577]\n",
      "[ 1.98132777  1.39713013  2.06103563]\n",
      "[ 0.17432582  0.17432582]\n",
      "[ 1.96249676  1.42397487  2.11893106]\n",
      "[ 0.17686933  0.17686933]\n",
      "[ 1.95003951  1.44842601  2.17176318]\n",
      "[ 0.17864525  0.17864525]\n",
      "[ 1.94352829  1.47067547  2.21994472]\n",
      "[ 0.17967878  0.17967878]\n",
      "[ 1.94253492  1.49090242  2.26385236]\n",
      "[ 0.18000907  0.18000907]\n",
      "[ 1.94663596  1.5092746   2.30384111]\n",
      "[ 0.17968592  0.17968592]\n",
      "[ 1.95541334  1.52594674  2.34024501]\n",
      "[ 0.1787671  0.1787671]\n",
      "[ 1.96845818  1.54106331  2.37338281]\n",
      "[ 0.17731562  0.17731562]\n",
      "[ 1.9853723   1.55475736  2.4035604 ]\n",
      "[ 0.17539711  0.17539711]\n",
      "[ 2.00577188  1.56715131  2.43106627]\n",
      "[ 0.17307772  0.17307772]\n",
      "[ 2.02928638  1.57835746  2.4561677 ]\n",
      "[ 5.85639811  0.17042235]\n",
      "[ 1.95701718  1.67018926  2.47910738]\n",
      "[ 0.17914855  0.17914855]\n",
      "[ 1.89603603  1.75350451  2.50009799]\n",
      "[ 0.18695503  0.18695503]\n",
      "[ 1.8456279   1.82906497  2.51932693]\n",
      "[ 0.19372916  0.19372916]\n",
      "[ 1.80510259  1.89756882  2.53695416]\n",
      "[ 0.19939487  0.19939487]\n",
      "[ 1.77379084  1.95965195  2.55312061]\n",
      "[ 0.20391157  0.20391157]\n",
      "[ 1.75104344  2.01589775  2.56795382]\n",
      "[ 0.20727223  0.20727223]\n",
      "[ 1.73622799  2.06683564  2.58157229]\n",
      "[ 0.20949978  0.20949978]\n",
      "[ 1.72872949  2.11295056  2.59408975]\n",
      "[ 0.21064276  0.21064276]\n",
      "[ 1.72795165  2.15468478  2.6056211 ]\n",
      "[ 0.21077028  0.21077028]\n",
      "[ 1.73331547  2.19243789  2.61627555]\n",
      "[ 0.20996739  0.20996739]\n",
      "[ 1.74426079  2.22657728  2.62616134]\n",
      "[ 0.20833015  0.20833015]\n",
      "[ 1.76024997  2.25743628  2.63537502]\n",
      "[ 0.20596059  0.20596059]\n",
      "[ 1.78076541  2.28531647  2.64400411]\n",
      "[ 0.20296353  0.20296353]\n",
      "[ 1.80531335  2.31049275  2.65212178]\n",
      "[ 0.19944239  0.19944239]\n",
      "[ 1.8334254   2.33321524  2.65978885]\n",
      "[ 0.19549687  0.19549687]\n",
      "[ 1.86465824  2.35371065  2.66705275]\n",
      "[ 0.19122039  0.19122039]\n",
      "[ 1.89859414  2.37218571  2.67395806]\n",
      "[ 0.18669897  0.18669897]\n",
      "[ 1.93484306  2.38882518  2.68054175]\n",
      "[ 0.18201002  0.18201002]\n",
      "[ 1.97304094  2.40379953  2.68684173]\n",
      "[ 0.17722195  0.17722195]\n",
      "[ 2.01285243  2.41726303  2.69289708]\n",
      "[ 0.1723939  0.1723939]\n",
      "[ 2.05396795  2.42935348  2.69874716]\n",
      "[ 0.16757618  0.16757618]\n",
      "[ 2.09610343  2.44019699  2.70443177]\n",
      "[ 0.16281077  0.16281077]\n",
      "[ 2.13900113  2.44990754  2.70998764]\n",
      "[ 0.15813147  0.15813147]\n",
      "[ 2.18242884  2.45858908  2.71544671]\n",
      "[ 0.15356556  0.15356556]\n",
      "[ 2.22617579  2.46633506  2.72083402]\n",
      "[ 0.14913343  0.14913343]\n",
      "[ 2.27005625  2.47322941  2.72616744]\n",
      "[ 0.14485036  0.14485036]\n",
      "[ 2.31390285  2.47934937  2.7314589 ]\n",
      "[ 0.14072676  0.14072676]\n",
      "[ 2.35756922  2.48476434  2.73671746]\n",
      "[ 0.13676932  0.13676932]\n",
      "[ 2.40092897  2.489537    2.74195051]\n",
      "[ 8.07682419  0.13298102]\n",
      "[ 2.33882713  2.58440399  2.74716663]\n"
     ]
    }
   ],
   "source": [
    "sess.run(tf.initialize_all_variables())\n",
    "\n",
    "for i in range(0, 100):\n",
    "    loss, _ = sess.run([single_loss, single_opt_op])\n",
    "    if i % 20 == 0:\n",
    "        print(loss)\n",
    "        print(sess.run(scores([0,1,2],[0,0,0],[1,1,1])))\n",
    "\n"
   ]
  }
 ],
 "metadata": {
  "kernelspec": {
   "display_name": "Python 3",
   "language": "python",
   "name": "python3"
  },
  "language_info": {
   "codemirror_mode": {
    "name": "ipython",
    "version": 3
   },
   "file_extension": ".py",
   "mimetype": "text/x-python",
   "name": "python",
   "nbconvert_exporter": "python",
   "pygments_lexer": "ipython3",
   "version": "3.5.1"
  }
 },
 "nbformat": 4,
 "nbformat_minor": 0
}
