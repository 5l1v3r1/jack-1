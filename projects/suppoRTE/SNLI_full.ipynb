{
 "cells": [
  {
   "cell_type": "markdown",
   "metadata": {},
   "source": [
    "# Notebook for debugging full SNLI experiments"
   ]
  },
  {
   "cell_type": "code",
   "execution_count": 1,
   "metadata": {
    "collapsed": false
   },
   "outputs": [
    {
     "name": "stdout",
     "output_type": "stream",
     "text": [
      "current working directory:  /Users/tdmeeste/workspace/jtr\n",
      "INFO:__main__.py:available devices:\n",
      "INFO:__main__.py:device info: name: \"/cpu:0\" device_type: \"CPU\" memory_limit: 268435456 locality { } incarnation: 17840164850955232819 \n"
     ]
    }
   ],
   "source": [
    "#general\n",
    "import sys, os\n",
    "import tensorflow as tf\n",
    "import logging\n",
    "logging.basicConfig(stream=sys.stdout, level=logging.DEBUG)\n",
    "logger = logging.getLogger(os.path.basename(sys.argv[0]))\n",
    "\n",
    "#jack\n",
    "os.chdir('../..') #First change dir to Jack parent\n",
    "import jtr.jack.readers as readers\n",
    "from jtr.load.embeddings.embeddings import load_embeddings, Embeddings\n",
    "\n",
    "#info \n",
    "print('current working directory: ', os.getcwd())\n",
    "\n",
    "from tensorflow.python.client import device_lib\n",
    "logger.info('available devices:')\n",
    "for l in device_lib.list_local_devices():\n",
    "    logger.info('device info: ' + str(l).replace(\"\\n\", \" \"))\n"
   ]
  },
  {
   "cell_type": "markdown",
   "metadata": {},
   "source": [
    "### constants"
   ]
  },
  {
   "cell_type": "code",
   "execution_count": 2,
   "metadata": {
    "collapsed": true
   },
   "outputs": [],
   "source": [
    "train_file = \"./data/SNLI/snli_1.0/snli_1.0_train_jtr_v1.json\"\n",
    "dev_file = \"./data/SNLI/snli_1.0/snli_1.0_dev_jtr_v1.json\"\n",
    "test_file = \"./data/SNLI/snli_1.0/snli_1.0_test_jtr_v1.json\"\n"
   ]
  },
  {
   "cell_type": "markdown",
   "metadata": {},
   "source": [
    "### configuration"
   ]
  },
  {
   "cell_type": "code",
   "execution_count": 3,
   "metadata": {
    "collapsed": true
   },
   "outputs": [],
   "source": [
    "#experiment mode:\n",
    "debug = True #only use small part ofdata; train=test=dev\n",
    "debug_examples = 500  #train set size in case debug\n",
    "\n",
    "#tensorboard folder\n",
    "#tensorboard_folder = './.tb/'\n",
    "\n",
    "#config for preprocessing\n",
    "lowercase = False\n",
    "#vocab_sep = True #Should there be separate vocabularies for questions and supports, vs. candidates and answers. This needs to be set to True for candidate-based methods.\n",
    "\n",
    "#config of Vocab and NeuralVocab\n",
    "vocab_max_size = sys.maxsize\n",
    "vocab_min_freq = 2\n",
    "pretrain = True\n",
    "#train_pretrain = True\n",
    "#normalize_pretrain = True\n",
    "repr_dim_input = 50 if debug else 300\n",
    "#repr_dim_input_trf = 100\n",
    "#repr_dim_output = 100\n",
    "\n",
    "#model -- choices=sorted(reader_models.keys())\n",
    "#model = bicond_singlesupport_reader \n",
    "\n",
    "#model hyperparams\n",
    "hidden_dim = 100\n",
    "#dim_rnn_in = 100\n",
    "#dim_rnn_out = 100\n",
    "\n",
    "\n",
    "#training\n",
    "batch_size = 32 if debug else 256\n",
    "eval_batch_size = 256\n",
    "learning_rate = 0.001\n",
    "#l2 = 0.0\n",
    "#clip_value = 0.0\n",
    "dropout = 0.0\n",
    "epochs = 30\n",
    "#buckets = 1\n",
    "\n",
    "#misc\n",
    "seed = 1337\n",
    "#logfile = ''\n",
    "#write_metrics_to = ''"
   ]
  },
  {
   "cell_type": "code",
   "execution_count": 4,
   "metadata": {
    "collapsed": false
   },
   "outputs": [],
   "source": [
    "config = {\n",
    "    'batch_size': batch_size,\n",
    "    'eval_batch_size': eval_batch_size,\n",
    "    'learning_rate': learning_rate,\n",
    "    'vocab_min_freq': vocab_min_freq,\n",
    "    'vocab_max_size': vocab_max_size,\n",
    "    'lowercase': lowercase,\n",
    "    'repr_dim_input': repr_dim_input,\n",
    "    'repr_dim': hidden_dim,\n",
    "    'dropout': dropout    \n",
    "}"
   ]
  },
  {
   "cell_type": "code",
   "execution_count": 5,
   "metadata": {
    "collapsed": false
   },
   "outputs": [],
   "source": [
    "tf.set_random_seed(seed)"
   ]
  },
  {
   "cell_type": "markdown",
   "metadata": {},
   "source": [
    "### Load data"
   ]
  },
  {
   "cell_type": "code",
   "execution_count": 6,
   "metadata": {
    "collapsed": false
   },
   "outputs": [
    {
     "name": "stdout",
     "output_type": "stream",
     "text": [
      "loaded 500 train instances\n",
      "loaded 500 dev instances\n",
      "loaded 500 test instances\n"
     ]
    }
   ],
   "source": [
    "from jtr.jack.data_structures import load_labelled_data\n",
    "\n",
    "snli_data = []\n",
    "splits = [train_file, dev_file, test_file]\n",
    "max_count = debug_examples if debug else None\n",
    "\n",
    "train_set, dev_set, test_set = [load_labelled_data(f, max_count) for f in splits]\n",
    "\n",
    "for s,l in zip([train_set, dev_set, test_set],['train', 'dev', 'test']):\n",
    "    print('loaded %d %s instances'%(len(s), l))"
   ]
  },
  {
   "cell_type": "markdown",
   "metadata": {},
   "source": [
    "### Load pre-trained embeddings and create vocabulary"
   ]
  },
  {
   "cell_type": "code",
   "execution_count": 7,
   "metadata": {
    "collapsed": false
   },
   "outputs": [
    {
     "name": "stdout",
     "output_type": "stream",
     "text": [
      "INFO:jtr.load.embeddings.glove:Loading GloVe vectors ..\n",
      "INFO:jtr.load.embeddings.glove:Loading GloVe vectors completed.\n",
      "INFO:__main__.py:loaded pre-trained embeddings (glove.6B.50d.txt)\n"
     ]
    }
   ],
   "source": [
    "from jtr.preprocess.vocab import Vocab\n",
    "\n",
    "#load pre-trained embeddings\n",
    "embeddings = None\n",
    "if pretrain:\n",
    "    if debug:\n",
    "        emb_file = 'glove.6B.50d.txt'\n",
    "        embeddings = load_embeddings(os.path.join('jtr', 'data', 'GloVe', emb_file), 'glove')\n",
    "    else:\n",
    "        emb_file = 'GoogleNews-vectors-negative300.bin.gz'\n",
    "        embeddings = load_embeddings(os.path.join('jtr', 'data', 'SG_GoogleNews', emb_file, 'word2vec'))    \n",
    "    logger.info('loaded pre-trained embeddings ({})'.format(emb_file))\n",
    "\n",
    "#create Vocab object\n",
    "vocab = Vocab(emb=embeddings)\n"
   ]
  },
  {
   "cell_type": "markdown",
   "metadata": {},
   "source": [
    "### Create a reader"
   ]
  },
  {
   "cell_type": "code",
   "execution_count": 8,
   "metadata": {
    "collapsed": false
   },
   "outputs": [],
   "source": [
    "# Create example reader with a basic config\n",
    "reader = readers.readers[\"snli_reader\"](vocab, config)"
   ]
  },
  {
   "cell_type": "markdown",
   "metadata": {},
   "source": [
    "### Add hooks"
   ]
  },
  {
   "cell_type": "code",
   "execution_count": 9,
   "metadata": {
    "collapsed": false
   },
   "outputs": [],
   "source": [
    "# We create hooks which keep track of the metrics such as the loss\n",
    "# We also create a classification metric monitoring hook for our model\n",
    "from jtr.jack.train.hooks import LossHook\n",
    "hooks = [LossHook(reader, iter_interval=100),\n",
    "         readers.eval_hooks['snli_reader'](reader, train_set, iter_interval=100, info='train'),\n",
    "         readers.eval_hooks['snli_reader'](reader, dev_set, iter_interval=100, info='dev'),\n",
    "         readers.eval_hooks['snli_reader'](reader, test_set, epoch_interval=epochs, info='test')]"
   ]
  },
  {
   "cell_type": "markdown",
   "metadata": {},
   "source": [
    "### Initialise optimiser"
   ]
  },
  {
   "cell_type": "code",
   "execution_count": 10,
   "metadata": {
    "collapsed": true
   },
   "outputs": [],
   "source": [
    "# Here we initialise our optimiser\n",
    "# we choose Adam with standard momentum values and learning rate 0.001\n",
    "optim = tf.train.AdamOptimizer(config['learning_rate'])"
   ]
  },
  {
   "cell_type": "markdown",
   "metadata": {},
   "source": [
    "### Train reader"
   ]
  },
  {
   "cell_type": "code",
   "execution_count": 11,
   "metadata": {
    "collapsed": false,
    "scrolled": false
   },
   "outputs": [
    {
     "name": "stdout",
     "output_type": "stream",
     "text": [
      "INFO:jtr.jack.core:Setting up data and model...\n",
      "DEBUG:jtr.jack.core:Pruned train vocab size (400085 to 1060)\n",
      "DEBUG:jtr.jack.core:answer_vocab: {'neutral': 1, 'contradiction': 2, 'entailment': 0}\n",
      "INFO:jtr.jack.core:Start training...\n",
      "INFO:jtr.jack.train.hooks:Epoch 1\tIter 15\ttotal 500\tAccuracy: 0.334\tF1_macro: 0.234\ttrain\n",
      "INFO:jtr.jack.train.hooks:Epoch 1\tIter 15\ttotal 500\tAccuracy: 0.346\tF1_macro: 0.210\tdev\n",
      "INFO:jtr.jack.train.hooks:Epoch 2\tIter 30\ttotal 500\tAccuracy: 0.366\tF1_macro: 0.289\ttrain\n"
     ]
    },
    {
     "name": "stderr",
     "output_type": "stream",
     "text": [
      "/Library/Frameworks/Python.framework/Versions/3.5/lib/python3.5/site-packages/sklearn/metrics/classification.py:1113: UndefinedMetricWarning: F-score is ill-defined and being set to 0.0 in labels with no predicted samples.\n",
      "  'precision', 'predicted', average, warn_for)\n"
     ]
    },
    {
     "name": "stdout",
     "output_type": "stream",
     "text": [
      "INFO:jtr.jack.train.hooks:Epoch 2\tIter 30\ttotal 500\tAccuracy: 0.340\tF1_macro: 0.262\tdev\n",
      "INFO:jtr.jack.train.hooks:Epoch 3\tIter 45\ttotal 500\tAccuracy: 0.360\tF1_macro: 0.267\ttrain\n",
      "INFO:jtr.jack.train.hooks:Epoch 3\tIter 45\ttotal 500\tAccuracy: 0.332\tF1_macro: 0.210\tdev\n",
      "INFO:jtr.jack.train.hooks:Epoch 4\tIter 60\ttotal 500\tAccuracy: 0.392\tF1_macro: 0.317\ttrain\n",
      "INFO:jtr.jack.train.hooks:Epoch 4\tIter 60\ttotal 500\tAccuracy: 0.378\tF1_macro: 0.267\tdev\n",
      "INFO:jtr.jack.train.hooks:Epoch 5\tIter 75\ttotal 500\tAccuracy: 0.456\tF1_macro: 0.436\ttrain\n",
      "INFO:jtr.jack.train.hooks:Epoch 5\tIter 75\ttotal 500\tAccuracy: 0.436\tF1_macro: 0.407\tdev\n",
      "INFO:jtr.jack.train.hooks:Epoch 6\tIter 90\ttotal 500\tAccuracy: 0.472\tF1_macro: 0.408\ttrain\n",
      "INFO:jtr.jack.train.hooks:Epoch 6\tIter 90\ttotal 500\tAccuracy: 0.432\tF1_macro: 0.364\tdev\n",
      "INFO:jtr.jack.train.hooks:Epoch 7\tIter 100\tLoss 1.08164277852\n",
      "INFO:jtr.jack.train.hooks:Epoch 7\tIter 100\ttotal 500\tAccuracy: 0.482\tF1_macro: 0.476\ttrain\n",
      "INFO:jtr.jack.train.hooks:Epoch 7\tIter 100\ttotal 500\tAccuracy: 0.426\tF1_macro: 0.424\tdev\n",
      "INFO:jtr.jack.train.hooks:Epoch 7\tIter 105\ttotal 500\tAccuracy: 0.450\tF1_macro: 0.424\ttrain\n",
      "INFO:jtr.jack.train.hooks:Epoch 7\tIter 105\ttotal 500\tAccuracy: 0.432\tF1_macro: 0.380\tdev\n",
      "INFO:jtr.jack.train.hooks:Epoch 8\tIter 120\ttotal 500\tAccuracy: 0.468\tF1_macro: 0.442\ttrain\n",
      "INFO:jtr.jack.train.hooks:Epoch 8\tIter 120\ttotal 500\tAccuracy: 0.426\tF1_macro: 0.387\tdev\n",
      "INFO:jtr.jack.train.hooks:Epoch 9\tIter 135\ttotal 500\tAccuracy: 0.512\tF1_macro: 0.484\ttrain\n",
      "INFO:jtr.jack.train.hooks:Epoch 9\tIter 135\ttotal 500\tAccuracy: 0.450\tF1_macro: 0.436\tdev\n",
      "INFO:jtr.jack.train.hooks:Epoch 10\tIter 150\ttotal 500\tAccuracy: 0.566\tF1_macro: 0.547\ttrain\n",
      "INFO:jtr.jack.train.hooks:Epoch 10\tIter 150\ttotal 500\tAccuracy: 0.458\tF1_macro: 0.439\tdev\n",
      "INFO:jtr.jack.train.hooks:Epoch 11\tIter 165\ttotal 500\tAccuracy: 0.582\tF1_macro: 0.581\ttrain\n",
      "INFO:jtr.jack.train.hooks:Epoch 11\tIter 165\ttotal 500\tAccuracy: 0.462\tF1_macro: 0.453\tdev\n",
      "INFO:jtr.jack.train.hooks:Epoch 12\tIter 180\ttotal 500\tAccuracy: 0.612\tF1_macro: 0.613\ttrain\n",
      "INFO:jtr.jack.train.hooks:Epoch 12\tIter 180\ttotal 500\tAccuracy: 0.450\tF1_macro: 0.447\tdev\n",
      "INFO:jtr.jack.train.hooks:Epoch 13\tIter 195\ttotal 500\tAccuracy: 0.598\tF1_macro: 0.596\ttrain\n",
      "INFO:jtr.jack.train.hooks:Epoch 13\tIter 195\ttotal 500\tAccuracy: 0.466\tF1_macro: 0.465\tdev\n",
      "INFO:jtr.jack.train.hooks:Epoch 14\tIter 200\tLoss 0.950761964321\n",
      "INFO:jtr.jack.train.hooks:Epoch 14\tIter 200\ttotal 500\tAccuracy: 0.628\tF1_macro: 0.627\ttrain\n",
      "INFO:jtr.jack.train.hooks:Epoch 14\tIter 200\ttotal 500\tAccuracy: 0.438\tF1_macro: 0.421\tdev\n",
      "INFO:jtr.jack.train.hooks:Epoch 14\tIter 210\ttotal 500\tAccuracy: 0.642\tF1_macro: 0.629\ttrain\n",
      "INFO:jtr.jack.train.hooks:Epoch 14\tIter 210\ttotal 500\tAccuracy: 0.454\tF1_macro: 0.439\tdev\n",
      "INFO:jtr.jack.train.hooks:Epoch 15\tIter 225\ttotal 500\tAccuracy: 0.620\tF1_macro: 0.607\ttrain\n",
      "INFO:jtr.jack.train.hooks:Epoch 15\tIter 225\ttotal 500\tAccuracy: 0.438\tF1_macro: 0.408\tdev\n",
      "INFO:jtr.jack.train.hooks:Epoch 16\tIter 240\ttotal 500\tAccuracy: 0.652\tF1_macro: 0.638\ttrain\n",
      "INFO:jtr.jack.train.hooks:Epoch 16\tIter 240\ttotal 500\tAccuracy: 0.436\tF1_macro: 0.419\tdev\n",
      "INFO:jtr.jack.train.hooks:Epoch 17\tIter 255\ttotal 500\tAccuracy: 0.670\tF1_macro: 0.668\ttrain\n",
      "INFO:jtr.jack.train.hooks:Epoch 17\tIter 255\ttotal 500\tAccuracy: 0.438\tF1_macro: 0.425\tdev\n",
      "INFO:jtr.jack.train.hooks:Epoch 18\tIter 270\ttotal 500\tAccuracy: 0.634\tF1_macro: 0.623\ttrain\n",
      "INFO:jtr.jack.train.hooks:Epoch 18\tIter 270\ttotal 500\tAccuracy: 0.450\tF1_macro: 0.447\tdev\n",
      "INFO:jtr.jack.train.hooks:Epoch 19\tIter 285\ttotal 500\tAccuracy: 0.680\tF1_macro: 0.680\ttrain\n",
      "INFO:jtr.jack.train.hooks:Epoch 19\tIter 285\ttotal 500\tAccuracy: 0.432\tF1_macro: 0.424\tdev\n",
      "INFO:jtr.jack.train.hooks:Epoch 20\tIter 300\tLoss 0.798323601484\n",
      "INFO:jtr.jack.train.hooks:Epoch 20\tIter 300\ttotal 500\tAccuracy: 0.716\tF1_macro: 0.713\ttrain\n",
      "INFO:jtr.jack.train.hooks:Epoch 20\tIter 300\ttotal 500\tAccuracy: 0.450\tF1_macro: 0.449\tdev\n",
      "INFO:jtr.jack.train.hooks:Epoch 20\tIter 300\ttotal 500\tAccuracy: 0.716\tF1_macro: 0.712\ttrain\n",
      "INFO:jtr.jack.train.hooks:Epoch 20\tIter 300\ttotal 500\tAccuracy: 0.450\tF1_macro: 0.449\tdev\n",
      "INFO:jtr.jack.train.hooks:Epoch 21\tIter 315\ttotal 500\tAccuracy: 0.692\tF1_macro: 0.673\ttrain\n",
      "INFO:jtr.jack.train.hooks:Epoch 21\tIter 315\ttotal 500\tAccuracy: 0.428\tF1_macro: 0.409\tdev\n",
      "INFO:jtr.jack.train.hooks:Epoch 22\tIter 330\ttotal 500\tAccuracy: 0.644\tF1_macro: 0.636\ttrain\n",
      "INFO:jtr.jack.train.hooks:Epoch 22\tIter 330\ttotal 500\tAccuracy: 0.430\tF1_macro: 0.417\tdev\n",
      "INFO:jtr.jack.train.hooks:Epoch 23\tIter 345\ttotal 500\tAccuracy: 0.698\tF1_macro: 0.698\ttrain\n",
      "INFO:jtr.jack.train.hooks:Epoch 23\tIter 345\ttotal 500\tAccuracy: 0.442\tF1_macro: 0.428\tdev\n",
      "INFO:jtr.jack.train.hooks:Epoch 24\tIter 360\ttotal 500\tAccuracy: 0.736\tF1_macro: 0.736\ttrain\n",
      "INFO:jtr.jack.train.hooks:Epoch 24\tIter 360\ttotal 500\tAccuracy: 0.466\tF1_macro: 0.462\tdev\n",
      "INFO:jtr.jack.train.hooks:Epoch 25\tIter 375\ttotal 500\tAccuracy: 0.782\tF1_macro: 0.782\ttrain\n",
      "INFO:jtr.jack.train.hooks:Epoch 25\tIter 375\ttotal 500\tAccuracy: 0.440\tF1_macro: 0.435\tdev\n",
      "INFO:jtr.jack.train.hooks:Epoch 26\tIter 390\ttotal 500\tAccuracy: 0.740\tF1_macro: 0.736\ttrain\n",
      "INFO:jtr.jack.train.hooks:Epoch 26\tIter 390\ttotal 500\tAccuracy: 0.438\tF1_macro: 0.431\tdev\n",
      "INFO:jtr.jack.train.hooks:Epoch 27\tIter 400\tLoss 0.667796377242\n",
      "INFO:jtr.jack.train.hooks:Epoch 27\tIter 400\ttotal 500\tAccuracy: 0.770\tF1_macro: 0.769\ttrain\n",
      "INFO:jtr.jack.train.hooks:Epoch 27\tIter 400\ttotal 500\tAccuracy: 0.454\tF1_macro: 0.447\tdev\n",
      "INFO:jtr.jack.train.hooks:Epoch 27\tIter 405\ttotal 500\tAccuracy: 0.762\tF1_macro: 0.758\ttrain\n",
      "INFO:jtr.jack.train.hooks:Epoch 27\tIter 405\ttotal 500\tAccuracy: 0.460\tF1_macro: 0.460\tdev\n",
      "INFO:jtr.jack.train.hooks:Epoch 28\tIter 420\ttotal 500\tAccuracy: 0.770\tF1_macro: 0.769\ttrain\n",
      "INFO:jtr.jack.train.hooks:Epoch 28\tIter 420\ttotal 500\tAccuracy: 0.446\tF1_macro: 0.445\tdev\n",
      "INFO:jtr.jack.train.hooks:Epoch 29\tIter 435\ttotal 500\tAccuracy: 0.752\tF1_macro: 0.752\ttrain\n",
      "INFO:jtr.jack.train.hooks:Epoch 29\tIter 435\ttotal 500\tAccuracy: 0.432\tF1_macro: 0.414\tdev\n",
      "INFO:jtr.jack.train.hooks:Epoch 30\tIter 450\ttotal 500\tAccuracy: 0.816\tF1_macro: 0.814\ttrain\n",
      "INFO:jtr.jack.train.hooks:Epoch 30\tIter 450\ttotal 500\tAccuracy: 0.462\tF1_macro: 0.462\tdev\n",
      "INFO:jtr.jack.train.hooks:Epoch 30\tIter 450\ttotal 500\tAccuracy: 0.458\tF1_macro: 0.457\ttest\n"
     ]
    }
   ],
   "source": [
    "# Let's train the reader on the CPU for 2 epochs\n",
    "reader.train(optim, train_set,\n",
    "             hooks=hooks, max_epochs=epochs,\n",
    "             device='/cpu:0')"
   ]
  },
  {
   "cell_type": "markdown",
   "metadata": {
    "collapsed": true
   },
   "source": [
    "### Plotting the results"
   ]
  },
  {
   "cell_type": "code",
   "execution_count": 12,
   "metadata": {
    "collapsed": false,
    "scrolled": true
   },
   "outputs": [
    {
     "data": {
      "image/png": "[encoded data removed]",
      "text/plain": [
       "<matplotlib.figure.Figure at 0x122ef5c18>"
      ]
     },
     "metadata": {},
     "output_type": "display_data"
    },
    {
     "data": {
      "image/png": "[encoded data removed]",
      "text/plain": [
       "<matplotlib.figure.Figure at 0x12e83eef0>"
      ]
     },
     "metadata": {},
     "output_type": "display_data"
    }
   ],
   "source": [
    "# This plots the loss\n",
    "hooks[0].plot()\n",
    "# This plots the F1 (macro) score and accuracy between 0 and 1\n",
    "hooks[1].plot(ylim=[0.0, 1.0])"
   ]
  },
  {
   "cell_type": "markdown",
   "metadata": {
    "collapsed": true
   },
   "source": [
    "### Analysing errors"
   ]
  },
  {
   "cell_type": "code",
   "execution_count": 13,
   "metadata": {
    "collapsed": false
   },
   "outputs": [],
   "source": [
    "# We can analyse what our model is doing by using the MisclassificationAnalyzerOutputModule.\n",
    "#from jtr.jack.tasks.mcqa.simple_mcqa import MisclassificationOutputModule   \n",
    "\n",
    "# We want misclassifications where the model predicted a probability between 0 and 0.2, \n",
    "# and we want to print 10 examples\n",
    "#reader.output_module = MisclassificationOutputModule(interval=[0.0, 0.20], limit=10)                                                                                                                     \n",
    "#reader.process_outputs(test_set) # run the output module on the test set\n",
    "# From the output below we can see that our model still has problems to distinguishe between neutral and\n",
    "# entailment between premise and hypothesis"
   ]
  },
  {
   "cell_type": "code",
   "execution_count": null,
   "metadata": {
    "collapsed": true
   },
   "outputs": [],
   "source": []
  }
 ],
 "metadata": {
  "kernelspec": {
   "display_name": "Python 3",
   "language": "python",
   "name": "python3"
  },
  "language_info": {
   "codemirror_mode": {
    "name": "ipython",
    "version": 3
   },
   "file_extension": ".py",
   "mimetype": "text/x-python",
   "name": "python",
   "nbconvert_exporter": "python",
   "pygments_lexer": "ipython3",
   "version": "3.5.2"
  }
 },
 "nbformat": 4,
 "nbformat_minor": 0
}
