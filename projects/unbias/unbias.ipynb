{
 "cells": [
  {
   "cell_type": "code",
   "execution_count": 4,
   "metadata": {
    "collapsed": false
   },
   "outputs": [
    {
     "name": "stdout",
     "output_type": "stream",
     "text": [
      "The autoreload extension is already loaded. To reload it, use:\n",
      "  %reload_ext autoreload\n"
     ]
    }
   ],
   "source": [
    "%load_ext autoreload\n",
    "%autoreload 2"
   ]
  },
  {
   "cell_type": "code",
   "execution_count": 23,
   "metadata": {
    "collapsed": true
   },
   "outputs": [],
   "source": [
    "import tensorflow as tf\n",
    "from typing import NamedTuple, List, Tuple, Sequence,Mapping\n",
    "\n",
    "import numpy as np"
   ]
  },
  {
   "cell_type": "code",
   "execution_count": 60,
   "metadata": {
    "collapsed": false
   },
   "outputs": [
    {
     "name": "stdout",
     "output_type": "stream",
     "text": [
      "[[ 1.  1.]\n",
      " [ 0.  1.]]\n"
     ]
    }
   ],
   "source": [
    "def to_tensors(data:Sequence[Mapping[str,float]], targets:Mapping[str,float]):\n",
    "    \n",
    "    vocab = {}\n",
    "    def to_vector(instance:Mapping[str,float]):\n",
    "        vector = np.ndarray(len(vocab))\n",
    "        for key, value in instance.items():\n",
    "            vector[vocab[key]] = value\n",
    "        return vector\n",
    "        \n",
    "    for instance in data:\n",
    "        for key,value in instance.items():\n",
    "            if key not in vocab:\n",
    "                vocab[key] = len(vocab)\n",
    "    data_vectors = []\n",
    "    for instance in data:\n",
    "        data_vectors.append(to_vector(instance))\n",
    "        \n",
    "    data_matrix = np.stack(data_vectors)\n",
    "    \n",
    "    target_vector = to_vector(targets)\n",
    "\n",
    "    print(data_matrix)\n",
    "    \n",
    "    return data_matrix, target_vector\n"
   ]
  },
  {
   "cell_type": "code",
   "execution_count": 64,
   "metadata": {
    "collapsed": false
   },
   "outputs": [],
   "source": []
  },
  {
   "cell_type": "code",
   "execution_count": 76,
   "metadata": {
    "collapsed": true
   },
   "outputs": [],
   "source": [
    "def estimate_correction_weights(data, targets, reg_lambda = 0.0, debug=False):\n",
    "    data_matrix, target_vector = to_tensors(data,{\"ent_premise_China\":1, \"ent_hyp_China\":1})\n",
    "    \n",
    "    instance_weights = tf.Variable(initial_value=tf.zeros([len(data)]))\n",
    "    data_placeholder = tf.placeholder(tf.float32, shape=data_matrix.shape)\n",
    "    target_placeholder = tf.placeholder(tf.float32, shape=target_vector.shape)\n",
    "    total = tf.einsum(\"ij,j -> i\", data_placeholder, instance_weights)\n",
    "    target_loss = tf.nn.l2_loss(total - target_placeholder)\n",
    "    regularizer = tf.nn.l2_loss(instance_weights - 1)\n",
    "    total_loss = target_loss + reg_lambda * regularizer\n",
    "\n",
    "    sess = tf.Session()\n",
    "    optimizer = tf.train.AdamOptimizer(0.1)\n",
    "    opt_op = optimizer.minimize(total_loss)\n",
    "    project_nonnegative = tf.assign(instance_weights, tf.maximum(0.0,instance_weights))\n",
    "\n",
    "    sess.run(tf.global_variables_initializer())\n",
    "    for i in range(0,100):\n",
    "        feed_dict = {data_placeholder:data_matrix, \n",
    "              target_placeholder:target_vector}\n",
    "        sess.run(opt_op,feed_dict)\n",
    "        sess.run(project_nonnegative)\n",
    "        result = sess.run({'total':total,\n",
    "              'loss':total_loss, \n",
    "              'regularizer':regularizer, \n",
    "              'weights':instance_weights,\n",
    "              'target':target_placeholder},feed_dict)\n",
    "        if debug:\n",
    "            print(result['loss'])\n",
    "            print(result['weights'])\n",
    "            print(result['total'])\n",
    "    return result['weights'],result['total']"
   ]
  },
  {
   "cell_type": "code",
   "execution_count": 77,
   "metadata": {
    "collapsed": false
   },
   "outputs": [
    {
     "name": "stdout",
     "output_type": "stream",
     "text": [
      "[[ 1.  1.]\n",
      " [ 0.  1.]]\n"
     ]
    },
    {
     "data": {
      "text/plain": [
       "(array([ 0.15402147,  0.92377818], dtype=float32),\n",
       " array([ 1.07779968,  0.92377818], dtype=float32))"
      ]
     },
     "execution_count": 77,
     "metadata": {},
     "output_type": "execute_result"
    }
   ],
   "source": [
    "data = [{\"ent_premise_China\":1, \"ent_hyp_China\":1},{\"ent_premise_China\":1, \"ent_hyp_China\":0}]\n",
    "targets = {\"ent_premise_China\":1, \"ent_hyp_China\":1}\n",
    "\n",
    "estimate_correction_weights(data, targets, reg_lambda=0.1)"
   ]
  }
 ],
 "metadata": {
  "kernelspec": {
   "display_name": "Python 3",
   "language": "python",
   "name": "python3"
  },
  "language_info": {
   "codemirror_mode": {
    "name": "ipython",
    "version": 3
   },
   "file_extension": ".py",
   "mimetype": "text/x-python",
   "name": "python",
   "nbconvert_exporter": "python",
   "pygments_lexer": "ipython3",
   "version": "3.5.1"
  }
 },
 "nbformat": 4,
 "nbformat_minor": 0
}
